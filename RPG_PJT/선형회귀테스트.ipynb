{
 "cells": [
  {
   "cell_type": "markdown",
   "id": "a56df60b",
   "metadata": {},
   "source": [
    "## 주제 : 비디오게임 데이터를 통한 미래시장 예측과 판매 전략수립\n",
    " ### => 어떤 장르의 게임을 언제(시대) 어디서(지역, 플랫폼) 출시해야 안정적인 수익을 보장할 수 있을까?"
   ]
  },
  {
   "cell_type": "markdown",
   "id": "06a36eda",
   "metadata": {},
   "source": [
    "### 1차 목표 : 장르별, 시대별, 대륙별 트렌드와 매출액을 파악하기\n",
    "\n",
    "- 시대별 장르 선호도 변화는 어떠한가? (시대별 장르 트렌드 변화)\n",
    "- 어떤 플랫폼에서 게임을 출시해야 하는가? (시대별 플랫폼 판매량)\n",
    "- 어느 지역에 출시할 것인가? (대륙별 선호도)"
   ]
  },
  {
   "cell_type": "code",
   "execution_count": 40,
   "id": "c7d930c8",
   "metadata": {},
   "outputs": [],
   "source": [
    "import pandas as pd\n",
    "import numpy as np\n",
    "import seaborn as sns\n",
    "import matplotlib.pyplot as plt\n",
    "from scipy import stats\n",
    "from scipy.stats import chisquare\n",
    "from scipy.stats import chi2_contingency\n",
    "from scipy.stats import normaltest"
   ]
  },
  {
   "cell_type": "code",
   "execution_count": 41,
   "id": "01fc19b8",
   "metadata": {},
   "outputs": [],
   "source": [
    "df = pd.read_csv('./data/Video_Games(정제2).csv')"
   ]
  },
  {
   "cell_type": "code",
   "execution_count": 42,
   "id": "5aa1dcba",
   "metadata": {},
   "outputs": [
    {
     "data": {
      "text/html": [
       "<div>\n",
       "<style scoped>\n",
       "    .dataframe tbody tr th:only-of-type {\n",
       "        vertical-align: middle;\n",
       "    }\n",
       "\n",
       "    .dataframe tbody tr th {\n",
       "        vertical-align: top;\n",
       "    }\n",
       "\n",
       "    .dataframe thead th {\n",
       "        text-align: right;\n",
       "    }\n",
       "</style>\n",
       "<table border=\"1\" class=\"dataframe\">\n",
       "  <thead>\n",
       "    <tr style=\"text-align: right;\">\n",
       "      <th></th>\n",
       "      <th>Name</th>\n",
       "      <th>Platform</th>\n",
       "      <th>Year</th>\n",
       "      <th>Genre</th>\n",
       "      <th>Publisher</th>\n",
       "      <th>NA_</th>\n",
       "      <th>EU_</th>\n",
       "      <th>JP_</th>\n",
       "      <th>Other_</th>\n",
       "      <th>Global_</th>\n",
       "      <th>C_Score</th>\n",
       "      <th>U_Score</th>\n",
       "      <th>Rating</th>\n",
       "    </tr>\n",
       "  </thead>\n",
       "  <tbody>\n",
       "    <tr>\n",
       "      <th>0</th>\n",
       "      <td>SuperMarioWorld</td>\n",
       "      <td>SNES</td>\n",
       "      <td>1990</td>\n",
       "      <td>Platform</td>\n",
       "      <td>Nintendo</td>\n",
       "      <td>38.73</td>\n",
       "      <td>11.36</td>\n",
       "      <td>10.73</td>\n",
       "      <td>1.67</td>\n",
       "      <td>62.45</td>\n",
       "      <td>100.0</td>\n",
       "      <td>NaN</td>\n",
       "      <td>NaN</td>\n",
       "    </tr>\n",
       "    <tr>\n",
       "      <th>1</th>\n",
       "      <td>TheLegendofZelda:OcarinaofTime</td>\n",
       "      <td>N64</td>\n",
       "      <td>1998</td>\n",
       "      <td>Action</td>\n",
       "      <td>Nintendo</td>\n",
       "      <td>16.40</td>\n",
       "      <td>7.56</td>\n",
       "      <td>5.80</td>\n",
       "      <td>0.64</td>\n",
       "      <td>30.40</td>\n",
       "      <td>99.0</td>\n",
       "      <td>NaN</td>\n",
       "      <td>NaN</td>\n",
       "    </tr>\n",
       "    <tr>\n",
       "      <th>2</th>\n",
       "      <td>GrandTheftAutoIV</td>\n",
       "      <td>X360</td>\n",
       "      <td>2008</td>\n",
       "      <td>Action</td>\n",
       "      <td>Take-Two Interactive</td>\n",
       "      <td>45.07</td>\n",
       "      <td>20.47</td>\n",
       "      <td>0.93</td>\n",
       "      <td>6.87</td>\n",
       "      <td>73.40</td>\n",
       "      <td>98.0</td>\n",
       "      <td>7.9</td>\n",
       "      <td>M</td>\n",
       "    </tr>\n",
       "    <tr>\n",
       "      <th>3</th>\n",
       "      <td>GrandTheftAutoIV</td>\n",
       "      <td>PS3</td>\n",
       "      <td>2008</td>\n",
       "      <td>Action</td>\n",
       "      <td>Take-Two Interactive</td>\n",
       "      <td>31.73</td>\n",
       "      <td>24.60</td>\n",
       "      <td>2.93</td>\n",
       "      <td>10.73</td>\n",
       "      <td>70.00</td>\n",
       "      <td>98.0</td>\n",
       "      <td>7.5</td>\n",
       "      <td>M</td>\n",
       "    </tr>\n",
       "    <tr>\n",
       "      <th>4</th>\n",
       "      <td>TonyHawk'sProSkater2</td>\n",
       "      <td>PS</td>\n",
       "      <td>2000</td>\n",
       "      <td>Sports</td>\n",
       "      <td>Activision</td>\n",
       "      <td>13.26</td>\n",
       "      <td>6.13</td>\n",
       "      <td>0.09</td>\n",
       "      <td>0.87</td>\n",
       "      <td>20.35</td>\n",
       "      <td>98.0</td>\n",
       "      <td>7.7</td>\n",
       "      <td>T</td>\n",
       "    </tr>\n",
       "  </tbody>\n",
       "</table>\n",
       "</div>"
      ],
      "text/plain": [
       "                             Name Platform  Year     Genre  \\\n",
       "0                 SuperMarioWorld     SNES  1990  Platform   \n",
       "1  TheLegendofZelda:OcarinaofTime      N64  1998    Action   \n",
       "2                GrandTheftAutoIV     X360  2008    Action   \n",
       "3                GrandTheftAutoIV      PS3  2008    Action   \n",
       "4            TonyHawk'sProSkater2       PS  2000    Sports   \n",
       "\n",
       "              Publisher    NA_    EU_    JP_  Other_  Global_  C_Score  \\\n",
       "0              Nintendo  38.73  11.36  10.73    1.67    62.45    100.0   \n",
       "1              Nintendo  16.40   7.56   5.80    0.64    30.40     99.0   \n",
       "2  Take-Two Interactive  45.07  20.47   0.93    6.87    73.40     98.0   \n",
       "3  Take-Two Interactive  31.73  24.60   2.93   10.73    70.00     98.0   \n",
       "4            Activision  13.26   6.13   0.09    0.87    20.35     98.0   \n",
       "\n",
       "  U_Score Rating  \n",
       "0     NaN    NaN  \n",
       "1     NaN    NaN  \n",
       "2     7.9      M  \n",
       "3     7.5      M  \n",
       "4     7.7      T  "
      ]
     },
     "execution_count": 42,
     "metadata": {},
     "output_type": "execute_result"
    }
   ],
   "source": [
    "df.head()"
   ]
  },
  {
   "cell_type": "code",
   "execution_count": 43,
   "id": "1efeae9d",
   "metadata": {},
   "outputs": [
    {
     "name": "stdout",
     "output_type": "stream",
     "text": [
      "  데이터 개수, 데이터 타입, 결측값 확인\n",
      "<class 'pandas.core.frame.DataFrame'>\n",
      "RangeIndex: 16715 entries, 0 to 16714\n",
      "Data columns (total 13 columns):\n",
      " #   Column     Non-Null Count  Dtype  \n",
      "---  ------     --------------  -----  \n",
      " 0   Name       16715 non-null  object \n",
      " 1   Platform   16715 non-null  object \n",
      " 2   Year       16715 non-null  int64  \n",
      " 3   Genre      16715 non-null  object \n",
      " 4   Publisher  16715 non-null  object \n",
      " 5   NA_        16715 non-null  float64\n",
      " 6   EU_        16715 non-null  float64\n",
      " 7   JP_        16715 non-null  float64\n",
      " 8   Other_     16715 non-null  float64\n",
      " 9   Global_    16715 non-null  float64\n",
      " 10  C_Score    16715 non-null  float64\n",
      " 11  U_Score    10014 non-null  object \n",
      " 12  Rating     9949 non-null   object \n",
      "dtypes: float64(6), int64(1), object(6)\n",
      "memory usage: 1.7+ MB\n",
      "None\n",
      "\n",
      " 평균,최대,최소값 확인\n",
      "                Year           NA_           EU_           JP_        Other_  \\\n",
      "count  16715.000000  16715.000000  16715.000000  16715.000000  16715.000000   \n",
      "mean    2006.469578      1.659138      1.004412      0.454276      0.335363   \n",
      "std        5.911544      4.892957      3.640585      1.823185      1.282381   \n",
      "min     1977.000000      0.000000      0.000000      0.000000      0.000000   \n",
      "25%     2003.000000      0.000000      0.000000      0.000000      0.000000   \n",
      "50%     2007.000000      0.500000      0.140000      0.000000      0.060000   \n",
      "75%     2010.000000      1.480000      0.690000      0.250000      0.220000   \n",
      "max     2020.000000    243.290000    170.350000     43.500000     55.630000   \n",
      "\n",
      "            Global_       C_Score  \n",
      "count  16715.000000  16715.000000  \n",
      "mean       3.454359     55.058827  \n",
      "std       10.046702     26.465438  \n",
      "min        0.030000     13.000000  \n",
      "25%        0.390000     33.000000  \n",
      "50%        1.060000     64.000000  \n",
      "75%        2.940000     75.000000  \n",
      "max      485.470000    100.000000  \n"
     ]
    }
   ],
   "source": [
    "print('  데이터 개수, 데이터 타입, 결측값 확인')\n",
    "print(df.info())\n",
    "print('\\n 평균,최대,최소값 확인\\n',df.describe())"
   ]
  },
  {
   "cell_type": "code",
   "execution_count": 88,
   "id": "d429709c",
   "metadata": {},
   "outputs": [
    {
     "data": {
      "text/html": [
       "<div>\n",
       "<style scoped>\n",
       "    .dataframe tbody tr th:only-of-type {\n",
       "        vertical-align: middle;\n",
       "    }\n",
       "\n",
       "    .dataframe tbody tr th {\n",
       "        vertical-align: top;\n",
       "    }\n",
       "\n",
       "    .dataframe thead th {\n",
       "        text-align: right;\n",
       "    }\n",
       "</style>\n",
       "<table border=\"1\" class=\"dataframe\">\n",
       "  <thead>\n",
       "    <tr style=\"text-align: right;\">\n",
       "      <th></th>\n",
       "      <th>Genre</th>\n",
       "      <th>Global_</th>\n",
       "    </tr>\n",
       "  </thead>\n",
       "  <tbody>\n",
       "    <tr>\n",
       "      <th>0</th>\n",
       "      <td>Platform</td>\n",
       "      <td>62.45</td>\n",
       "    </tr>\n",
       "    <tr>\n",
       "      <th>1</th>\n",
       "      <td>Action</td>\n",
       "      <td>30.40</td>\n",
       "    </tr>\n",
       "    <tr>\n",
       "      <th>2</th>\n",
       "      <td>Action</td>\n",
       "      <td>73.40</td>\n",
       "    </tr>\n",
       "  </tbody>\n",
       "</table>\n",
       "</div>"
      ],
      "text/plain": [
       "      Genre  Global_\n",
       "0  Platform    62.45\n",
       "1    Action    30.40\n",
       "2    Action    73.40"
      ]
     },
     "execution_count": 88,
     "metadata": {},
     "output_type": "execute_result"
    }
   ],
   "source": [
    "newdf=df[['Genre', 'Global_']]\n",
    "newdf.head(3)"
   ]
  },
  {
   "cell_type": "code",
   "execution_count": 84,
   "id": "c3262f47",
   "metadata": {},
   "outputs": [],
   "source": [
    "# pip install --upgrade category_encoders"
   ]
  },
  {
   "cell_type": "code",
   "execution_count": 89,
   "id": "34d564ee",
   "metadata": {},
   "outputs": [
    {
     "data": {
      "text/html": [
       "<div>\n",
       "<style scoped>\n",
       "    .dataframe tbody tr th:only-of-type {\n",
       "        vertical-align: middle;\n",
       "    }\n",
       "\n",
       "    .dataframe tbody tr th {\n",
       "        vertical-align: top;\n",
       "    }\n",
       "\n",
       "    .dataframe thead th {\n",
       "        text-align: right;\n",
       "    }\n",
       "</style>\n",
       "<table border=\"1\" class=\"dataframe\">\n",
       "  <thead>\n",
       "    <tr style=\"text-align: right;\">\n",
       "      <th></th>\n",
       "      <th>Genre_Platform</th>\n",
       "      <th>Genre_Action</th>\n",
       "      <th>Genre_Sports</th>\n",
       "      <th>Genre_Fighting</th>\n",
       "      <th>Genre_Shooter</th>\n",
       "      <th>Genre_Role-Playing</th>\n",
       "      <th>Genre_Racing</th>\n",
       "      <th>Genre_Strategy</th>\n",
       "      <th>Genre_Misc</th>\n",
       "      <th>Genre_Adventure</th>\n",
       "      <th>Genre_Simulation</th>\n",
       "      <th>Genre_Puzzle</th>\n",
       "      <th>Global_</th>\n",
       "    </tr>\n",
       "  </thead>\n",
       "  <tbody>\n",
       "    <tr>\n",
       "      <th>0</th>\n",
       "      <td>1</td>\n",
       "      <td>0</td>\n",
       "      <td>0</td>\n",
       "      <td>0</td>\n",
       "      <td>0</td>\n",
       "      <td>0</td>\n",
       "      <td>0</td>\n",
       "      <td>0</td>\n",
       "      <td>0</td>\n",
       "      <td>0</td>\n",
       "      <td>0</td>\n",
       "      <td>0</td>\n",
       "      <td>62.45</td>\n",
       "    </tr>\n",
       "    <tr>\n",
       "      <th>1</th>\n",
       "      <td>0</td>\n",
       "      <td>1</td>\n",
       "      <td>0</td>\n",
       "      <td>0</td>\n",
       "      <td>0</td>\n",
       "      <td>0</td>\n",
       "      <td>0</td>\n",
       "      <td>0</td>\n",
       "      <td>0</td>\n",
       "      <td>0</td>\n",
       "      <td>0</td>\n",
       "      <td>0</td>\n",
       "      <td>30.40</td>\n",
       "    </tr>\n",
       "    <tr>\n",
       "      <th>2</th>\n",
       "      <td>0</td>\n",
       "      <td>1</td>\n",
       "      <td>0</td>\n",
       "      <td>0</td>\n",
       "      <td>0</td>\n",
       "      <td>0</td>\n",
       "      <td>0</td>\n",
       "      <td>0</td>\n",
       "      <td>0</td>\n",
       "      <td>0</td>\n",
       "      <td>0</td>\n",
       "      <td>0</td>\n",
       "      <td>73.40</td>\n",
       "    </tr>\n",
       "  </tbody>\n",
       "</table>\n",
       "</div>"
      ],
      "text/plain": [
       "   Genre_Platform  Genre_Action  Genre_Sports  Genre_Fighting  Genre_Shooter  \\\n",
       "0               1             0             0               0              0   \n",
       "1               0             1             0               0              0   \n",
       "2               0             1             0               0              0   \n",
       "\n",
       "   Genre_Role-Playing  Genre_Racing  Genre_Strategy  Genre_Misc  \\\n",
       "0                   0             0               0           0   \n",
       "1                   0             0               0           0   \n",
       "2                   0             0               0           0   \n",
       "\n",
       "   Genre_Adventure  Genre_Simulation  Genre_Puzzle  Global_  \n",
       "0                0                 0             0    62.45  \n",
       "1                0                 0             0    30.40  \n",
       "2                0                 0             0    73.40  "
      ]
     },
     "execution_count": 89,
     "metadata": {},
     "output_type": "execute_result"
    }
   ],
   "source": [
    "target='Global_'\n",
    "from category_encoders import OneHotEncoder\n",
    "encoder = OneHotEncoder(use_cat_names = True)\n",
    "df_encoded = encoder.fit_transform(newdf)\n",
    "df_encoded.head(3)"
   ]
  },
  {
   "cell_type": "code",
   "execution_count": 90,
   "id": "13c3b28a",
   "metadata": {},
   "outputs": [],
   "source": [
    "from sklearn.model_selection import train_test_split\n",
    "#먼저 테스트세트 분리\n",
    "trainval, test=train_test_split(df_encoded)\n",
    "#그다음 훈련/ 검증 분리\n",
    "train, val=train_test_split(trainval)"
   ]
  },
  {
   "cell_type": "markdown",
   "id": "fe7b6dc5",
   "metadata": {},
   "source": [
    "#### 게임 세일 데이터 세트 피처\n",
    "\n",
    "    * Name : 게임 이름\n",
    "    * Platform : 플랫폼\n",
    "    * Year : 출시 년도\n",
    "    * Genre : 장르\n",
    "    * Publisher : \n",
    "    * NA_ : 북미 판매량\n",
    "    * EU_ : 유럽 판매량\n",
    "    * JP_ : 일본 판매량\n",
    "    * Other_ : 그 외 지역 판매량\n",
    "    * Global_ : 전체 판매량 (합계)\n",
    "    * C_Score : 전문가 평점\n",
    "    * U_Score : 사용자 평점\n",
    "    * Rating  : 비율"
   ]
  },
  {
   "cell_type": "code",
   "execution_count": 91,
   "id": "d6cd585b",
   "metadata": {},
   "outputs": [
    {
     "name": "stdout",
     "output_type": "stream",
     "text": [
      "['Genre_Platform', 'Genre_Action', 'Genre_Sports', 'Genre_Fighting', 'Genre_Shooter', 'Genre_Role-Playing', 'Genre_Racing', 'Genre_Strategy', 'Genre_Misc', 'Genre_Adventure', 'Genre_Simulation', 'Genre_Puzzle', 'Global_']\n"
     ]
    }
   ],
   "source": [
    "feature=list(train)\n",
    "print(feature)"
   ]
  },
  {
   "cell_type": "code",
   "execution_count": 92,
   "id": "cb3f68cd",
   "metadata": {},
   "outputs": [],
   "source": [
    "features=['Genre_Platform', 'Genre_Action', 'Genre_Sports', 'Genre_Fighting', 'Genre_Shooter', 'Genre_Role-Playing', 'Genre_Racing', 'Genre_Strategy', 'Genre_Misc', 'Genre_Adventure', 'Genre_Simulation', 'Genre_Puzzle']\n",
    "X_train=train[features]\n",
    "X_val=val[features]\n",
    "X_test=test[features]\n",
    "y_train=train[target]\n",
    "y_val=val[target]\n",
    "y_test=test[target]"
   ]
  },
  {
   "cell_type": "code",
   "execution_count": 93,
   "id": "41ed0fdf",
   "metadata": {},
   "outputs": [
    {
     "data": {
      "text/html": [
       "<style>#sk-container-id-2 {color: black;background-color: white;}#sk-container-id-2 pre{padding: 0;}#sk-container-id-2 div.sk-toggleable {background-color: white;}#sk-container-id-2 label.sk-toggleable__label {cursor: pointer;display: block;width: 100%;margin-bottom: 0;padding: 0.3em;box-sizing: border-box;text-align: center;}#sk-container-id-2 label.sk-toggleable__label-arrow:before {content: \"▸\";float: left;margin-right: 0.25em;color: #696969;}#sk-container-id-2 label.sk-toggleable__label-arrow:hover:before {color: black;}#sk-container-id-2 div.sk-estimator:hover label.sk-toggleable__label-arrow:before {color: black;}#sk-container-id-2 div.sk-toggleable__content {max-height: 0;max-width: 0;overflow: hidden;text-align: left;background-color: #f0f8ff;}#sk-container-id-2 div.sk-toggleable__content pre {margin: 0.2em;color: black;border-radius: 0.25em;background-color: #f0f8ff;}#sk-container-id-2 input.sk-toggleable__control:checked~div.sk-toggleable__content {max-height: 200px;max-width: 100%;overflow: auto;}#sk-container-id-2 input.sk-toggleable__control:checked~label.sk-toggleable__label-arrow:before {content: \"▾\";}#sk-container-id-2 div.sk-estimator input.sk-toggleable__control:checked~label.sk-toggleable__label {background-color: #d4ebff;}#sk-container-id-2 div.sk-label input.sk-toggleable__control:checked~label.sk-toggleable__label {background-color: #d4ebff;}#sk-container-id-2 input.sk-hidden--visually {border: 0;clip: rect(1px 1px 1px 1px);clip: rect(1px, 1px, 1px, 1px);height: 1px;margin: -1px;overflow: hidden;padding: 0;position: absolute;width: 1px;}#sk-container-id-2 div.sk-estimator {font-family: monospace;background-color: #f0f8ff;border: 1px dotted black;border-radius: 0.25em;box-sizing: border-box;margin-bottom: 0.5em;}#sk-container-id-2 div.sk-estimator:hover {background-color: #d4ebff;}#sk-container-id-2 div.sk-parallel-item::after {content: \"\";width: 100%;border-bottom: 1px solid gray;flex-grow: 1;}#sk-container-id-2 div.sk-label:hover label.sk-toggleable__label {background-color: #d4ebff;}#sk-container-id-2 div.sk-serial::before {content: \"\";position: absolute;border-left: 1px solid gray;box-sizing: border-box;top: 0;bottom: 0;left: 50%;z-index: 0;}#sk-container-id-2 div.sk-serial {display: flex;flex-direction: column;align-items: center;background-color: white;padding-right: 0.2em;padding-left: 0.2em;position: relative;}#sk-container-id-2 div.sk-item {position: relative;z-index: 1;}#sk-container-id-2 div.sk-parallel {display: flex;align-items: stretch;justify-content: center;background-color: white;position: relative;}#sk-container-id-2 div.sk-item::before, #sk-container-id-2 div.sk-parallel-item::before {content: \"\";position: absolute;border-left: 1px solid gray;box-sizing: border-box;top: 0;bottom: 0;left: 50%;z-index: -1;}#sk-container-id-2 div.sk-parallel-item {display: flex;flex-direction: column;z-index: 1;position: relative;background-color: white;}#sk-container-id-2 div.sk-parallel-item:first-child::after {align-self: flex-end;width: 50%;}#sk-container-id-2 div.sk-parallel-item:last-child::after {align-self: flex-start;width: 50%;}#sk-container-id-2 div.sk-parallel-item:only-child::after {width: 0;}#sk-container-id-2 div.sk-dashed-wrapped {border: 1px dashed gray;margin: 0 0.4em 0.5em 0.4em;box-sizing: border-box;padding-bottom: 0.4em;background-color: white;}#sk-container-id-2 div.sk-label label {font-family: monospace;font-weight: bold;display: inline-block;line-height: 1.2em;}#sk-container-id-2 div.sk-label-container {text-align: center;}#sk-container-id-2 div.sk-container {/* jupyter's `normalize.less` sets `[hidden] { display: none; }` but bootstrap.min.css set `[hidden] { display: none !important; }` so we also need the `!important` here to be able to override the default hidden behavior on the sphinx rendered scikit-learn.org. See: https://github.com/scikit-learn/scikit-learn/issues/21755 */display: inline-block !important;position: relative;}#sk-container-id-2 div.sk-text-repr-fallback {display: none;}</style><div id=\"sk-container-id-2\" class=\"sk-top-container\"><div class=\"sk-text-repr-fallback\"><pre>LinearRegression()</pre><b>In a Jupyter environment, please rerun this cell to show the HTML representation or trust the notebook. <br />On GitHub, the HTML representation is unable to render, please try loading this page with nbviewer.org.</b></div><div class=\"sk-container\" hidden><div class=\"sk-item\"><div class=\"sk-estimator sk-toggleable\"><input class=\"sk-toggleable__control sk-hidden--visually\" id=\"sk-estimator-id-2\" type=\"checkbox\" checked><label for=\"sk-estimator-id-2\" class=\"sk-toggleable__label sk-toggleable__label-arrow\">LinearRegression</label><div class=\"sk-toggleable__content\"><pre>LinearRegression()</pre></div></div></div></div></div>"
      ],
      "text/plain": [
       "LinearRegression()"
      ]
     },
     "execution_count": 93,
     "metadata": {},
     "output_type": "execute_result"
    }
   ],
   "source": [
    "from sklearn.linear_model import LinearRegression\n",
    "model=LinearRegression()\n",
    "model.fit(X_train, y_train)"
   ]
  },
  {
   "cell_type": "code",
   "execution_count": 94,
   "id": "7ff6b5da",
   "metadata": {},
   "outputs": [],
   "source": [
    "y_val_pred=model.predict(X_val)"
   ]
  },
  {
   "cell_type": "code",
   "execution_count": 95,
   "id": "27f8c311",
   "metadata": {},
   "outputs": [
    {
     "name": "stdout",
     "output_type": "stream",
     "text": [
      "검증데이터 평가\n",
      "검증데이터 MSE: 168.28423358604425\n",
      "검증데이터 RMSE: 12.972441311720946\n",
      "검증데이터 MAE: 3.89886029251381\n",
      "검증데이터 r2: 0.006625362027123716\n"
     ]
    }
   ],
   "source": [
    "from sklearn.metrics import mean_absolute_error, mean_squared_error, r2_score\n",
    "mse_val=mean_squared_error(y_val, y_val_pred)\n",
    "rmse_val=mse_val**0.5\n",
    "mae_val=mean_absolute_error(y_val, y_val_pred)\n",
    "r2_val=r2_score(y_val, y_val_pred)\n",
    "print('검증데이터 평가')\n",
    "print('검증데이터 MSE:', mse_val)\n",
    "print('검증데이터 RMSE:', rmse_val)\n",
    "print('검증데이터 MAE:', mae_val)\n",
    "print('검증데이터 r2:', r2_val)"
   ]
  },
  {
   "cell_type": "code",
   "execution_count": 96,
   "id": "24f7c600",
   "metadata": {},
   "outputs": [
    {
     "name": "stdout",
     "output_type": "stream",
     "text": [
      "테스트데이터 평가\n",
      "테스트데이터 MSE: 77.80857457526892\n",
      "테스트데이터 RMSE: 8.820916878378853\n",
      "테스트데이터 MAE: 3.82111981036133\n",
      "테스트데이터 r2: 0.013969124740754402\n"
     ]
    }
   ],
   "source": [
    "model.fit(X_val, y_val)\n",
    "y_test_pred=model.predict(X_test)\n",
    "mse_test=mean_squared_error(y_test, y_test_pred)\n",
    "rmse_test=mse_test**0.5\n",
    "mae_test=mean_absolute_error(y_test, y_test_pred)\n",
    "r2_test=r2_score(y_test, y_test_pred)\n",
    "print('테스트데이터 평가')\n",
    "print('테스트데이터 MSE:', mse_test)\n",
    "print('테스트데이터 RMSE:', rmse_test)\n",
    "print('테스트데이터 MAE:', mae_test)\n",
    "print('테스트데이터 r2:', r2_test)"
   ]
  },
  {
   "cell_type": "code",
   "execution_count": null,
   "id": "86dbc45a",
   "metadata": {},
   "outputs": [],
   "source": []
  }
 ],
 "metadata": {
  "kernelspec": {
   "display_name": "Python 3 (ipykernel)",
   "language": "python",
   "name": "python3"
  },
  "language_info": {
   "codemirror_mode": {
    "name": "ipython",
    "version": 3
   },
   "file_extension": ".py",
   "mimetype": "text/x-python",
   "name": "python",
   "nbconvert_exporter": "python",
   "pygments_lexer": "ipython3",
   "version": "3.10.9"
  }
 },
 "nbformat": 4,
 "nbformat_minor": 5
}

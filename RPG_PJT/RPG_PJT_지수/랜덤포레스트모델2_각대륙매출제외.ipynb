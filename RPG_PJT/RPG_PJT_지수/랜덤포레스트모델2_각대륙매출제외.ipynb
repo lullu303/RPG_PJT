{
 "cells": [
  {
   "cell_type": "code",
   "execution_count": 51,
   "id": "43c78ceb",
   "metadata": {},
   "outputs": [],
   "source": [
    "import pandas as pd\n",
    "df = pd.read_csv('Video_Games(연평균).csv')"
   ]
  },
  {
   "cell_type": "code",
   "execution_count": 52,
   "id": "0c9553e3",
   "metadata": {},
   "outputs": [],
   "source": [
    "# 이름, 출시년도, 각 대륙별_sales 변수 제거\n",
    "df=df.drop(['Name','Year','NA_','EU_','JP_','Other_'],axis=1)\n",
    "# 유저평점 변수 형 변환\n",
    "df['U_Score'] = pd.to_numeric(df['U_Score'], errors='coerce')\n",
    "# \"U_Score\" 열의 누락된 값을 최저값으로 채우기\n",
    "min_score = df[\"U_Score\"].min()\n",
    "df[\"U_Score\"].fillna(min_score, inplace=True)"
   ]
  },
  {
   "cell_type": "code",
   "execution_count": 53,
   "id": "d6fbe61a",
   "metadata": {},
   "outputs": [
    {
     "name": "stdout",
     "output_type": "stream",
     "text": [
      "<class 'pandas.core.frame.DataFrame'>\n",
      "RangeIndex: 16712 entries, 0 to 16711\n",
      "Data columns (total 6 columns):\n",
      " #   Column     Non-Null Count  Dtype  \n",
      "---  ------     --------------  -----  \n",
      " 0   Platform   16712 non-null  object \n",
      " 1   Genre      16712 non-null  object \n",
      " 2   Publisher  16712 non-null  object \n",
      " 3   Global_    16712 non-null  float64\n",
      " 4   C_Score    16712 non-null  float64\n",
      " 5   U_Score    16712 non-null  float64\n",
      "dtypes: float64(3), object(3)\n",
      "memory usage: 783.5+ KB\n"
     ]
    }
   ],
   "source": [
    "df.info()"
   ]
  },
  {
   "cell_type": "code",
   "execution_count": 54,
   "id": "12c95824",
   "metadata": {},
   "outputs": [],
   "source": [
    "from sklearn.ensemble import RandomForestRegressor\n",
    "from sklearn.model_selection import train_test_split\n",
    "from sklearn.preprocessing import LabelEncoder\n",
    "\n",
    "# 특성 변수와 타겟 변수 분리\n",
    "X = df.drop('Global_', axis=1)\n",
    "y = df['Global_']\n",
    "\n",
    "# 범주형 데이터 인코딩\n",
    "encoder = LabelEncoder()\n",
    "X_encoded = X.copy()\n",
    "for column in X_encoded.columns:\n",
    "    if X_encoded[column].dtype == object:\n",
    "        X_encoded[column] = encoder.fit_transform(X_encoded[column])\n",
    "\n",
    "# 데이터 분할\n",
    "X_train, X_test, y_train, y_test = train_test_split(X_encoded, y, test_size=0.2, random_state=42)\n",
    "\n",
    "# 랜덤 포레스트 모델 생성 및 학습\n",
    "model = RandomForestRegressor()\n",
    "model.fit(X_train, y_train)\n",
    "\n",
    "# 테스트 세트 예측\n",
    "y_pred = model.predict(X_test)"
   ]
  },
  {
   "cell_type": "code",
   "execution_count": 57,
   "id": "e3f3721a",
   "metadata": {},
   "outputs": [
    {
     "name": "stdout",
     "output_type": "stream",
     "text": [
      "평균제곱오차 0.005014008443069904\n",
      "R-제곱 0.24704025894452386\n"
     ]
    }
   ],
   "source": [
    "from sklearn.metrics import mean_squared_error\n",
    "from sklearn.metrics import r2_score\n",
    "\n",
    "# 모델 평가\n",
    "mse = mean_squared_error(y_test, y_pred)\n",
    "print('평균제곱오차', mse)\n",
    "r2 = r2_score(y_test, y_pred)\n",
    "print('R-제곱', r2)"
   ]
  },
  {
   "cell_type": "code",
   "execution_count": 56,
   "id": "f9d3750f",
   "metadata": {},
   "outputs": [
    {
     "name": "stdout",
     "output_type": "stream",
     "text": [
      "Best Parameters: {'max_depth': None, 'min_samples_split': 6, 'n_estimators': 300}\n",
      "Mean Squared Error: 0.005014008443069904\n"
     ]
    }
   ],
   "source": [
    "import pandas as pd\n",
    "from sklearn.ensemble import RandomForestRegressor\n",
    "from sklearn.model_selection import train_test_split, GridSearchCV\n",
    "from sklearn.metrics import mean_squared_error\n",
    "from sklearn.preprocessing import LabelEncoder\n",
    "\n",
    "# 데이터셋 로드\n",
    "df = pd.read_csv('Video_Games(연평균).csv')\n",
    "# 이름, 출시년도 변수 제거\n",
    "df=df.drop(['Name','Year','NA_','EU_','JP_','Other_'],axis=1)\n",
    "# 유저평점 변수 형 변환\n",
    "df['U_Score'] = pd.to_numeric(df['U_Score'], errors='coerce')\n",
    "# \"U_Score\" 열의 누락된 값을 최저값으로 채우기\n",
    "min_score = df[\"U_Score\"].min()\n",
    "df[\"U_Score\"].fillna(min_score, inplace=True)\n",
    "\n",
    "\n",
    "# 특성 변수와 타겟 변수 분리\n",
    "X = df.drop('Global_', axis=1)\n",
    "y = df['Global_']\n",
    "\n",
    "# 범주형 데이터 인코딩\n",
    "encoder = LabelEncoder()\n",
    "X_encoded = X.copy()\n",
    "for column in X_encoded.columns:\n",
    "    if X_encoded[column].dtype == object:\n",
    "        X_encoded[column] = encoder.fit_transform(X_encoded[column])\n",
    "\n",
    "# 데이터 분할\n",
    "X_train, X_test, y_train, y_test = train_test_split(X_encoded, y, test_size=0.2, random_state=42)\n",
    "\n",
    "# 그리드 서치를 위한 하이퍼파라미터 그리드 설정\n",
    "param_grid = {\n",
    "    'n_estimators': [100, 200, 300],\n",
    "    'max_depth': [None, 5, 10],\n",
    "    'min_samples_split': [2, 4, 6]\n",
    "}\n",
    "\n",
    "# 랜덤 포레스트 모델 생성\n",
    "model = RandomForestRegressor()\n",
    "\n",
    "# 그리드 서치 객체 생성 및 학습\n",
    "grid_search = GridSearchCV(estimator=model, param_grid=param_grid, cv=5, scoring='neg_mean_squared_error')\n",
    "grid_search.fit(X_train, y_train)\n",
    "\n",
    "# 최적의 하이퍼파라미터 조합 및 모델 성능 출력\n",
    "best_params = grid_search.best_params_\n",
    "print('Best Parameters:', best_params)\n",
    "\n",
    "best_model = grid_search.best_estimator_\n",
    "y_pred = best_model.predict(X_test)\n",
    "mse = mean_squared_error(y_test, y_pred)\n",
    "print('Mean Squared Error:', mse)\n"
   ]
  },
  {
   "cell_type": "code",
   "execution_count": 58,
   "id": "d9a76f49",
   "metadata": {
    "scrolled": true
   },
   "outputs": [
    {
     "name": "stdout",
     "output_type": "stream",
     "text": [
      "평균제곱오차 0.005014008443069904\n",
      "R-제곱 0.24704025894452386\n"
     ]
    }
   ],
   "source": [
    "from sklearn.metrics import r2_score\n",
    "# 모델 평가\n",
    "mse = mean_squared_error(y_test, y_pred)\n",
    "print('평균제곱오차', mse)\n",
    "r2 = r2_score(y_test, y_pred)\n",
    "print('R-제곱', r2)"
   ]
  },
  {
   "cell_type": "code",
   "execution_count": 59,
   "id": "1c438783",
   "metadata": {
    "scrolled": true
   },
   "outputs": [
    {
     "name": "stdout",
     "output_type": "stream",
     "text": [
      "Best Parameters: {'max_depth': None, 'min_samples_split': 6, 'n_estimators': 300}\n",
      "Mean Squared Error: 0.004979528288229365\n",
      "R-제곱 0.25221818569815113\n"
     ]
    }
   ],
   "source": [
    "import pandas as pd\n",
    "from sklearn.ensemble import RandomForestRegressor\n",
    "from sklearn.model_selection import train_test_split, GridSearchCV\n",
    "from sklearn.metrics import mean_squared_error\n",
    "from sklearn.preprocessing import LabelEncoder\n",
    "from sklearn.metrics import r2_score\n",
    "\n",
    "# 데이터셋 로드\n",
    "df = pd.read_csv('Video_Games(연평균).csv')\n",
    "# 이름, 출시년도 변수 제거\n",
    "df=df.drop(['Name','Year','NA_','EU_','JP_','Other_'],axis=1)\n",
    "# 유저평점 변수 형 변환\n",
    "df['U_Score'] = pd.to_numeric(df['U_Score'], errors='coerce')\n",
    "# \"U_Score\" 열의 누락된 값을 최저값으로 채우기\n",
    "min_score = df[\"U_Score\"].min()\n",
    "df[\"U_Score\"].fillna(min_score, inplace=True)\n",
    "\n",
    "\n",
    "# 특성 변수와 타겟 변수 분리\n",
    "X = df.drop('Global_', axis=1)\n",
    "y = df['Global_']\n",
    "\n",
    "# 범주형 데이터 인코딩\n",
    "encoder = LabelEncoder()\n",
    "X_encoded = X.copy()\n",
    "for column in X_encoded.columns:\n",
    "    if X_encoded[column].dtype == object:\n",
    "        X_encoded[column] = encoder.fit_transform(X_encoded[column])\n",
    "\n",
    "# 데이터 분할\n",
    "X_train, X_test, y_train, y_test = train_test_split(X_encoded, y, test_size=0.2, random_state=42)\n",
    "\n",
    "# 그리드 서치를 위한 하이퍼파라미터 그리드 설정\n",
    "param_grid = {\n",
    "    'n_estimators': [300],\n",
    "    'max_depth': [None],\n",
    "    'min_samples_split': [6]\n",
    "}\n",
    "\n",
    "# 랜덤 포레스트 모델 생성\n",
    "model = RandomForestRegressor()\n",
    "\n",
    "# 그리드 서치 객체 생성 및 학습\n",
    "grid_search = GridSearchCV(estimator=model, param_grid=param_grid, cv=5, scoring='neg_mean_squared_error')\n",
    "grid_search.fit(X_train, y_train)\n",
    "\n",
    "# 최적의 하이퍼파라미터 조합 및 모델 성능 출력\n",
    "best_params = grid_search.best_params_\n",
    "print('Best Parameters:', best_params)\n",
    "\n",
    "best_model = grid_search.best_estimator_\n",
    "y_pred = best_model.predict(X_test)\n",
    "mse = mean_squared_error(y_test, y_pred)\n",
    "print('Mean Squared Error:', mse)\n",
    "r2 = r2_score(y_test, y_pred)\n",
    "print('R-제곱', r2)"
   ]
  },
  {
   "cell_type": "code",
   "execution_count": 60,
   "id": "077f56ee",
   "metadata": {},
   "outputs": [
    {
     "name": "stdout",
     "output_type": "stream",
     "text": [
      "Mean Squared Error: 0.004944390787484174\n",
      "R-squared: 0.2574948268851047\n"
     ]
    }
   ],
   "source": [
    "import pandas as pd\n",
    "from sklearn.ensemble import RandomForestRegressor\n",
    "from sklearn.model_selection import train_test_split\n",
    "from sklearn.metrics import mean_squared_error, r2_score\n",
    "from sklearn.preprocessing import LabelEncoder\n",
    "\n",
    "df = pd.read_csv('Video_Games(연평균).csv')\n",
    "# 이름, 출시년도 변수 제거\n",
    "df = df.drop(['Name', 'Year', 'NA_', 'EU_', 'JP_', 'Other_'], axis=1)\n",
    "# 유저평점 변수 형 변환\n",
    "df['U_Score'] = pd.to_numeric(df['U_Score'], errors='coerce')\n",
    "# \"U_Score\" 열의 누락된 값을 최저값으로 채우기\n",
    "min_score = df[\"U_Score\"].min()\n",
    "df[\"U_Score\"].fillna(min_score, inplace=True)\n",
    "\n",
    "# 특성 변수와 타겟 변수 분리\n",
    "X = df.drop('Global_', axis=1)\n",
    "y = df['Global_']\n",
    "\n",
    "# 범주형 데이터 인코딩\n",
    "encoder = LabelEncoder()\n",
    "X_encoded = X.copy()\n",
    "for column in X_encoded.columns:\n",
    "    if X_encoded[column].dtype == object:\n",
    "        X_encoded[column] = encoder.fit_transform(X_encoded[column])\n",
    "# 데이터 분할\n",
    "X_train, X_test, y_train, y_test = train_test_split(X_encoded, y, \n",
    "                                                    test_size=0.2, \n",
    "                                                    random_state=42)\n",
    "# 그리드서치 후 최적 파라미터값으로 모델설정\n",
    "model = RandomForestRegressor(n_estimators=300, \n",
    "                              max_depth=None, \n",
    "                              min_samples_split=6)\n",
    "# 모델 학습 및 예측\n",
    "model.fit(X_train, y_train)\n",
    "y_pred = model.predict(X_test)\n",
    "\n",
    "mse = mean_squared_error(y_test, y_pred)\n",
    "r2 = r2_score(y_test, y_pred)\n",
    "print('Mean Squared Error:', mse)\n",
    "print('R-squared:', r2)\n"
   ]
  },
  {
   "cell_type": "code",
   "execution_count": null,
   "id": "0a64a021",
   "metadata": {},
   "outputs": [],
   "source": []
  }
 ],
 "metadata": {
  "kernelspec": {
   "display_name": "Python 3 (ipykernel)",
   "language": "python",
   "name": "python3"
  },
  "language_info": {
   "codemirror_mode": {
    "name": "ipython",
    "version": 3
   },
   "file_extension": ".py",
   "mimetype": "text/x-python",
   "name": "python",
   "nbconvert_exporter": "python",
   "pygments_lexer": "ipython3",
   "version": "3.9.13"
  }
 },
 "nbformat": 4,
 "nbformat_minor": 5
}

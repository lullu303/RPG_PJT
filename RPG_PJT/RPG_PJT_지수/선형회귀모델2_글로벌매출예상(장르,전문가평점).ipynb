{
 "cells": [
  {
   "cell_type": "code",
   "execution_count": 1,
   "id": "abfd04d3",
   "metadata": {},
   "outputs": [
    {
     "data": {
      "text/html": [
       "<div>\n",
       "<style scoped>\n",
       "    .dataframe tbody tr th:only-of-type {\n",
       "        vertical-align: middle;\n",
       "    }\n",
       "\n",
       "    .dataframe tbody tr th {\n",
       "        vertical-align: top;\n",
       "    }\n",
       "\n",
       "    .dataframe thead th {\n",
       "        text-align: right;\n",
       "    }\n",
       "</style>\n",
       "<table border=\"1\" class=\"dataframe\">\n",
       "  <thead>\n",
       "    <tr style=\"text-align: right;\">\n",
       "      <th></th>\n",
       "      <th>Name</th>\n",
       "      <th>Platform</th>\n",
       "      <th>Year</th>\n",
       "      <th>Genre</th>\n",
       "      <th>Publisher</th>\n",
       "      <th>NA_</th>\n",
       "      <th>EU_</th>\n",
       "      <th>JP_</th>\n",
       "      <th>Other_</th>\n",
       "      <th>Global_</th>\n",
       "      <th>C_Score</th>\n",
       "      <th>U_Score</th>\n",
       "      <th>Rating</th>\n",
       "    </tr>\n",
       "  </thead>\n",
       "  <tbody>\n",
       "    <tr>\n",
       "      <th>0</th>\n",
       "      <td>SuperMarioWorld</td>\n",
       "      <td>SNES</td>\n",
       "      <td>1990</td>\n",
       "      <td>Platform</td>\n",
       "      <td>Nintendo</td>\n",
       "      <td>38.73</td>\n",
       "      <td>11.36</td>\n",
       "      <td>10.73</td>\n",
       "      <td>1.67</td>\n",
       "      <td>62.45</td>\n",
       "      <td>100.0</td>\n",
       "      <td>NaN</td>\n",
       "      <td>NaN</td>\n",
       "    </tr>\n",
       "    <tr>\n",
       "      <th>1</th>\n",
       "      <td>TheLegendofZelda:OcarinaofTime</td>\n",
       "      <td>N64</td>\n",
       "      <td>1998</td>\n",
       "      <td>Action</td>\n",
       "      <td>Nintendo</td>\n",
       "      <td>16.40</td>\n",
       "      <td>7.56</td>\n",
       "      <td>5.80</td>\n",
       "      <td>0.64</td>\n",
       "      <td>30.40</td>\n",
       "      <td>99.0</td>\n",
       "      <td>NaN</td>\n",
       "      <td>NaN</td>\n",
       "    </tr>\n",
       "    <tr>\n",
       "      <th>2</th>\n",
       "      <td>GrandTheftAutoIV</td>\n",
       "      <td>X360</td>\n",
       "      <td>2008</td>\n",
       "      <td>Action</td>\n",
       "      <td>Take-Two Interactive</td>\n",
       "      <td>45.07</td>\n",
       "      <td>20.47</td>\n",
       "      <td>0.93</td>\n",
       "      <td>6.87</td>\n",
       "      <td>73.40</td>\n",
       "      <td>98.0</td>\n",
       "      <td>7.9</td>\n",
       "      <td>M</td>\n",
       "    </tr>\n",
       "    <tr>\n",
       "      <th>3</th>\n",
       "      <td>GrandTheftAutoIV</td>\n",
       "      <td>PS3</td>\n",
       "      <td>2008</td>\n",
       "      <td>Action</td>\n",
       "      <td>Take-Two Interactive</td>\n",
       "      <td>31.73</td>\n",
       "      <td>24.60</td>\n",
       "      <td>2.93</td>\n",
       "      <td>10.73</td>\n",
       "      <td>70.00</td>\n",
       "      <td>98.0</td>\n",
       "      <td>7.5</td>\n",
       "      <td>M</td>\n",
       "    </tr>\n",
       "    <tr>\n",
       "      <th>4</th>\n",
       "      <td>TonyHawk'sProSkater2</td>\n",
       "      <td>PS</td>\n",
       "      <td>2000</td>\n",
       "      <td>Sports</td>\n",
       "      <td>Activision</td>\n",
       "      <td>13.26</td>\n",
       "      <td>6.13</td>\n",
       "      <td>0.09</td>\n",
       "      <td>0.87</td>\n",
       "      <td>20.35</td>\n",
       "      <td>98.0</td>\n",
       "      <td>7.7</td>\n",
       "      <td>T</td>\n",
       "    </tr>\n",
       "  </tbody>\n",
       "</table>\n",
       "</div>"
      ],
      "text/plain": [
       "                             Name Platform  Year     Genre  \\\n",
       "0                 SuperMarioWorld     SNES  1990  Platform   \n",
       "1  TheLegendofZelda:OcarinaofTime      N64  1998    Action   \n",
       "2                GrandTheftAutoIV     X360  2008    Action   \n",
       "3                GrandTheftAutoIV      PS3  2008    Action   \n",
       "4            TonyHawk'sProSkater2       PS  2000    Sports   \n",
       "\n",
       "              Publisher    NA_    EU_    JP_  Other_  Global_  C_Score  \\\n",
       "0              Nintendo  38.73  11.36  10.73    1.67    62.45    100.0   \n",
       "1              Nintendo  16.40   7.56   5.80    0.64    30.40     99.0   \n",
       "2  Take-Two Interactive  45.07  20.47   0.93    6.87    73.40     98.0   \n",
       "3  Take-Two Interactive  31.73  24.60   2.93   10.73    70.00     98.0   \n",
       "4            Activision  13.26   6.13   0.09    0.87    20.35     98.0   \n",
       "\n",
       "  U_Score Rating  \n",
       "0     NaN    NaN  \n",
       "1     NaN    NaN  \n",
       "2     7.9      M  \n",
       "3     7.5      M  \n",
       "4     7.7      T  "
      ]
     },
     "execution_count": 1,
     "metadata": {},
     "output_type": "execute_result"
    }
   ],
   "source": [
    "import pandas as pd\n",
    "game = pd.read_csv('Video_Games(정제2).csv')\n",
    "game.head()"
   ]
  },
  {
   "cell_type": "code",
   "execution_count": 6,
   "id": "e147a4dc",
   "metadata": {},
   "outputs": [],
   "source": [
    "# 패키지 임포트 \n",
    "from sklearn.model_selection import train_test_split\n",
    "# 독립변수와 종속변수 지정\n",
    "X = game[['Genre','C_Score']]\n",
    "y = game['Global_']"
   ]
  },
  {
   "cell_type": "code",
   "execution_count": 7,
   "id": "ffd1398d",
   "metadata": {},
   "outputs": [],
   "source": [
    "# 장르(범주형변수) 원핫인코딩\n",
    "# 겟더미함수\n",
    "X_encoded = pd.get_dummies(X, columns=['Genre'])"
   ]
  },
  {
   "cell_type": "code",
   "execution_count": 10,
   "id": "ac885ddb",
   "metadata": {},
   "outputs": [],
   "source": [
    "# 훈련 데이터와 테스트 데이터 분할, 시드값42\n",
    "X_train_val, X_test, y_train_val, y_test = train_test_split(X_encoded, y, test_size=0.1, random_state=42)\n",
    "# 훈련 데이터와 검증 데이터 분할, 시드값42\n",
    "X_train, X_val, y_train, y_val = train_test_split(X_train_val, y_train_val, test_size=0.1, random_state=42)"
   ]
  },
  {
   "cell_type": "code",
   "execution_count": 11,
   "id": "83e95dbc",
   "metadata": {},
   "outputs": [
    {
     "name": "stdout",
     "output_type": "stream",
     "text": [
      "훈련 데이터 크기: 13539\n",
      "검증 데이터 크기: 1505\n",
      "테스트 데이터 크기: 1672\n"
     ]
    }
   ],
   "source": [
    "# 각 데이터셋의 크기 확인하기\n",
    "print(\"훈련 데이터 크기:\", X_train.shape[0])\n",
    "print(\"검증 데이터 크기:\", X_val.shape[0])\n",
    "print(\"테스트 데이터 크기:\", X_test.shape[0])"
   ]
  },
  {
   "cell_type": "code",
   "execution_count": 16,
   "id": "ad621c3b",
   "metadata": {},
   "outputs": [
    {
     "data": {
      "text/plain": [
       "LinearRegression()"
      ]
     },
     "execution_count": 16,
     "metadata": {},
     "output_type": "execute_result"
    }
   ],
   "source": [
    "# 모델패키지 임포트\n",
    "from sklearn.linear_model import LinearRegression\n",
    "# 선형회귀모델 생성하기\n",
    "model = LinearRegression()\n",
    "# 학습데이터로 모델 훈련\n",
    "model.fit(X_train, y_train)"
   ]
  },
  {
   "cell_type": "code",
   "execution_count": 17,
   "id": "8abf645e",
   "metadata": {},
   "outputs": [
    {
     "name": "stdout",
     "output_type": "stream",
     "text": [
      "평균 제곱 오차 (MSE): 76.94491605413295\n",
      "평균 절대 오차 (MAE): 3.513649385793605\n",
      "R-squared 점수: 0.04555779083916911\n"
     ]
    }
   ],
   "source": [
    "# 모델평가패키지 임포트\n",
    "from sklearn.metrics import mean_squared_error, mean_absolute_error, r2_score\n",
    "\n",
    "\n",
    "# 학습된 모델로 예측하기\n",
    "y_pred = model.predict(X_val)\n",
    "# 평가 지표 계산\n",
    "mse = mean_squared_error(y_val, y_pred)\n",
    "mae = mean_absolute_error(y_val, y_pred)\n",
    "r2 = r2_score(y_val, y_pred)\n",
    "# 평가 결과 출력\n",
    "print(\"평균 제곱 오차 (MSE):\", mse)\n",
    "print(\"평균 절대 오차 (MAE):\", mae)\n",
    "print(\"R-squared 점수:\", r2)"
   ]
  },
  {
   "cell_type": "code",
   "execution_count": 18,
   "id": "a8e8340a",
   "metadata": {},
   "outputs": [
    {
     "name": "stdout",
     "output_type": "stream",
     "text": [
      "테스트 데이터 평균 제곱 오차 (MSE): 49.020215490370234\n",
      "테스트 데이터 평균 절대 오차 (MAE): 3.6049328638662392\n",
      "테스트 데이터 R-squared 점수: 0.04530523002067588\n"
     ]
    }
   ],
   "source": [
    "# 학습된모델로 테스트 데이터 예측하기\n",
    "y_pred_test = model.predict(X_test)\n",
    "\n",
    "# 테스트 데이터에 대한 평가 지표 계산\n",
    "mse_test = mean_squared_error(y_test, y_pred_test)\n",
    "mae_test = mean_absolute_error(y_test, y_pred_test)\n",
    "r2_test = r2_score(y_test, y_pred_test)\n",
    "\n",
    "# 테스트 데이터에 대한 평가 결과 출력\n",
    "print(\"테스트 데이터 평균 제곱 오차 (MSE):\", mse_test)\n",
    "print(\"테스트 데이터 평균 절대 오차 (MAE):\", mae_test)\n",
    "print(\"테스트 데이터 R-squared 점수:\", r2_test)\n"
   ]
  },
  {
   "cell_type": "code",
   "execution_count": 21,
   "id": "9d16f53a",
   "metadata": {},
   "outputs": [
    {
     "data": {
      "image/png": "[encoded data removed]",
      "text/plain": [
       "<Figure size 640x480 with 1 Axes>"
      ]
     },
     "metadata": {},
     "output_type": "display_data"
    }
   ],
   "source": [
    "# 모델 평가결과 시각화해서 확인해보기..\n",
    "import matplotlib.pyplot as plt\n",
    "\n",
    "# 산점도 그래프로 실제값과 예측값 비교\n",
    "plt.scatter(y_test, y_pred_test)\n",
    "plt.xlabel('actual')\n",
    "plt.ylabel('predict')\n",
    "plt.title('actual vs. predict')\n",
    "plt.show()"
   ]
  },
  {
   "cell_type": "code",
   "execution_count": 22,
   "id": "6b0e712c",
   "metadata": {},
   "outputs": [
    {
     "name": "stderr",
     "output_type": "stream",
     "text": [
      "C:\\Users\\jisu\\Anaconda3\\lib\\site-packages\\IPython\\core\\pylabtools.py:151: UserWarning: Glyph 54588 (\\N{HANGUL SYLLABLE PI}) missing from current font.\n",
      "  fig.canvas.print_figure(bytes_io, **kw)\n",
      "C:\\Users\\jisu\\Anaconda3\\lib\\site-packages\\IPython\\core\\pylabtools.py:151: UserWarning: Glyph 52376 (\\N{HANGUL SYLLABLE CEO}) missing from current font.\n",
      "  fig.canvas.print_figure(bytes_io, **kw)\n",
      "C:\\Users\\jisu\\Anaconda3\\lib\\site-packages\\IPython\\core\\pylabtools.py:151: UserWarning: Glyph 48324 (\\N{HANGUL SYLLABLE BYEOL}) missing from current font.\n",
      "  fig.canvas.print_figure(bytes_io, **kw)\n",
      "C:\\Users\\jisu\\Anaconda3\\lib\\site-packages\\IPython\\core\\pylabtools.py:151: UserWarning: Glyph 44050 (\\N{HANGUL SYLLABLE GABS}) missing from current font.\n",
      "  fig.canvas.print_figure(bytes_io, **kw)\n"
     ]
    },
    {
     "data": {
      "image/png": "[encoded data removed]",
      "text/plain": [
       "<Figure size 640x480 with 1 Axes>"
      ]
     },
     "metadata": {},
     "output_type": "display_data"
    }
   ],
   "source": [
    "# 각 피처의 r2값 막대형식으로 시각화해보기\n",
    "# 피처 이름과 R-squared 값 가져오기\n",
    "feature_names = X.columns\n",
    "r2_values = model.score(X_test, y_test)\n",
    "\n",
    "# 막대 그래프로 피처별 R-squared 값 시각화\n",
    "plt.bar(feature_names, r2_values)\n",
    "plt.xlabel('피처')\n",
    "plt.ylabel('R-squared')\n",
    "plt.title('피처별 R-squared 값')\n",
    "plt.xticks(rotation=90)\n",
    "plt.show()"
   ]
  },
  {
   "cell_type": "code",
   "execution_count": null,
   "id": "c95351bf",
   "metadata": {},
   "outputs": [],
   "source": []
  },
  {
   "cell_type": "code",
   "execution_count": null,
   "id": "03f95741",
   "metadata": {},
   "outputs": [],
   "source": []
  },
  {
   "cell_type": "code",
   "execution_count": null,
   "id": "a21403c6",
   "metadata": {},
   "outputs": [],
   "source": []
  },
  {
   "cell_type": "code",
   "execution_count": null,
   "id": "b124a317",
   "metadata": {},
   "outputs": [],
   "source": []
  },
  {
   "cell_type": "code",
   "execution_count": null,
   "id": "cea42fe8",
   "metadata": {},
   "outputs": [],
   "source": []
  }
 ],
 "metadata": {
  "kernelspec": {
   "display_name": "Python 3 (ipykernel)",
   "language": "python",
   "name": "python3"
  },
  "language_info": {
   "codemirror_mode": {
    "name": "ipython",
    "version": 3
   },
   "file_extension": ".py",
   "mimetype": "text/x-python",
   "name": "python",
   "nbconvert_exporter": "python",
   "pygments_lexer": "ipython3",
   "version": "3.9.13"
  }
 },
 "nbformat": 4,
 "nbformat_minor": 5
}

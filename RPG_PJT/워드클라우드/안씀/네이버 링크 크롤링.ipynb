{
 "cells": [
  {
   "cell_type": "code",
   "execution_count": 4,
   "id": "4986fea8",
   "metadata": {},
   "outputs": [],
   "source": [
    "# !pip install webdriver_manager"
   ]
  },
  {
   "cell_type": "code",
   "execution_count": 30,
   "id": "fc998bd1",
   "metadata": {},
   "outputs": [],
   "source": [
    "#크롤링시 필요한 라이브러리 불러오기\n",
    "from bs4 import BeautifulSoup\n",
    "import requests\n",
    "import re\n",
    "import time\n",
    "from selenium import webdriver\n",
    "from selenium.webdriver.common.by import By\n",
    "from webdriver_manager.chrome import ChromeDriverManager\n",
    "\n",
    "#웹드라이버 설정\n",
    "options = webdriver.ChromeOptions()\n",
    "options.add_experimental_option(\"excludeSwitches\", [\"enable-automation\"])\n",
    "options.add_experimental_option(\"useAutomationExtension\", False)"
   ]
  },
  {
   "cell_type": "code",
   "execution_count": 31,
   "id": "cdfb4f93",
   "metadata": {},
   "outputs": [],
   "source": [
    "# 페이지 url 형식에 맞게 바꾸어 주는 함수 만들기\n",
    "  #입력된 수를 1, 11, 21, 31 ...만들어 주는 함수\n",
    "def makePgNum(num):\n",
    "    if num == 1:\n",
    "        return num\n",
    "    elif num == 0:\n",
    "        return num+1\n",
    "    else:\n",
    "        return num+9*(num-1)\n",
    "\n",
    "\n",
    "# 크롤링할 url 생성하는 함수 만들기(검색어, 크롤링 시작 페이지, 크롤링 종료 페이지)\n",
    "def makeUrl(search,start_pg,end_pg):\n",
    "    if start_pg == end_pg:\n",
    "        start_page = makePgNum(start_pg)\n",
    "        url = \"https://search.naver.com/search.naver?where=news&sm=tab_pge&query=\" + search + \"&start=\" + str(start_page)\n",
    "        print(\"생성url: \",url)\n",
    "        return url\n",
    "    else:\n",
    "        urls= []\n",
    "        for i in range(start_pg,end_pg+1):\n",
    "            page = makePgNum(i)\n",
    "            url = \"https://search.naver.com/search.naver?where=news&sm=tab_pge&query=\" + search + \"&start=\" + str(page)\n",
    "            urls.append(url)\n",
    "        print(\"생성url: \",urls)\n",
    "        return urls"
   ]
  },
  {
   "cell_type": "code",
   "execution_count": 32,
   "id": "ac244c04",
   "metadata": {},
   "outputs": [
    {
     "name": "stdout",
     "output_type": "stream",
     "text": [
      "검색할 키워드를 입력해주세요:콘솔게임 트렌드\n",
      "\n",
      "크롤링할 시작 페이지를 입력해주세요. ex)1(숫자만입력):1\n",
      "\n",
      "크롤링할 시작 페이지:  1 페이지\n",
      "\n",
      "크롤링할 종료 페이지를 입력해주세요. ex)1(숫자만입력):2\n",
      "\n",
      "크롤링할 종료 페이지:  2 페이지\n",
      "생성url:  ['https://search.naver.com/search.naver?where=news&sm=tab_pge&query=콘솔게임 트렌드&start=1', 'https://search.naver.com/search.naver?where=news&sm=tab_pge&query=콘솔게임 트렌드&start=11']\n"
     ]
    }
   ],
   "source": [
    "##########뉴스크롤링 시작###################\n",
    "\n",
    "#검색어 입력\n",
    "search = input(\"검색할 키워드를 입력해주세요:\")\n",
    "\n",
    "#검색 시작할 페이지 입력\n",
    "page = int(input(\"\\n크롤링할 시작 페이지를 입력해주세요. ex)1(숫자만입력):\")) # ex)1 =1페이지,2=2페이지...\n",
    "print(\"\\n크롤링할 시작 페이지: \",page,\"페이지\")   \n",
    "#검색 종료할 페이지 입력\n",
    "page2 = int(input(\"\\n크롤링할 종료 페이지를 입력해주세요. ex)1(숫자만입력):\")) # ex)1 =1페이지,2=2페이지...\n",
    "print(\"\\n크롤링할 종료 페이지: \",page2,\"페이지\")   \n",
    "\n",
    "# naver url 생성\n",
    "search_urls = makeUrl(search,page,page2)"
   ]
  },
  {
   "cell_type": "code",
   "execution_count": 33,
   "id": "82649bfa",
   "metadata": {},
   "outputs": [
    {
     "name": "stderr",
     "output_type": "stream",
     "text": [
      "C:\\Users\\jihye\\AppData\\Local\\Temp\\ipykernel_15736\\3588468955.py:2: DeprecationWarning: executable_path has been deprecated, please pass in a Service object\n",
      "  driver = webdriver.Chrome(ChromeDriverManager().install())\n"
     ]
    }
   ],
   "source": [
    "# 버전에 상관 없이 os에 설치된 크롬 브라우저 사용\n",
    "driver = webdriver.Chrome(ChromeDriverManager().install())\n",
    "driver.implicitly_wait(3)"
   ]
  },
  {
   "cell_type": "code",
   "execution_count": 34,
   "id": "3d8f69c4",
   "metadata": {},
   "outputs": [
    {
     "name": "stdout",
     "output_type": "stream",
     "text": [
      "https://www.gamechosun.co.kr/\n",
      "https://www.straightnews.co.kr/\n",
      "https://magazine.hankyung.com/\n",
      "https://n.news.naver.com/mnews/article/050/0000065323?sid=101\n",
      "https://www.mk.co.kr/\n",
      "https://n.news.naver.com/mnews/article/009/0005120259?sid=105\n",
      "https://it.chosun.com/\n",
      "https://www.inven.co.kr/\n",
      "https://sports.news.naver.com/news.nhn?oid=442&aid=0000160886\n",
      "https://it.chosun.com/\n",
      "https://www.betanews.net/\n",
      "http://www.gameshot.net/\n",
      "https://dream.kotra.or.kr/kotranews/index.do\n",
      "https://dream.kotra.or.kr/kotranews/index.do\n",
      "http://www.globale.co.kr/\n",
      "http://www.digitaltoday.co.kr/\n",
      "https://www.hankyung.com/\n",
      "https://static.hankyung.com/popup/230509/\n",
      "https://n.news.naver.com/mnews/article/015/0004805240?sid=101\n",
      "http://www.gamefocus.co.kr/\n",
      "http://www.seoulwire.com/\n",
      "https://newsis.com/\n",
      "http://www.seoulwire.com/bannerpop/popup.html?win_popup_idxno=1617\n",
      "https://n.news.naver.com/mnews/article/003/0011546910?sid=105\n",
      "https://www.asiae.co.kr/\n",
      "https://n.news.naver.com/mnews/article/277/0005201910?sid=101\n",
      "https://www.itbiznews.com/\n",
      "['https://n.news.naver.com/mnews/article/050/0000065323?sid=101', 'https://n.news.naver.com/mnews/article/009/0005120259?sid=105', 'https://sports.news.naver.com/news.nhn?oid=442&aid=0000160886', 'https://n.news.naver.com/mnews/article/015/0004805240?sid=101', 'https://n.news.naver.com/mnews/article/003/0011546910?sid=105', 'https://n.news.naver.com/mnews/article/277/0005201910?sid=101']\n"
     ]
    }
   ],
   "source": [
    "## selenium으로 navernews만 뽑아오기##\n",
    "\n",
    "\n",
    "\n",
    "# selenium으로 검색 페이지 불러오기 #\n",
    "\n",
    "naver_urls=[]\n",
    "\n",
    "for i in search_urls:\n",
    "    driver.get(i)\n",
    "    time.sleep(1) #대기시간 변경 가능\n",
    "\n",
    "    # 네이버 기사 눌러서 제목 및 본문 가져오기#\n",
    "    # 네이버 기사가 있는 기사 css selector 모아오기\n",
    "    a = driver.find_elements(By.CSS_SELECTOR,'a.info')\n",
    "\n",
    "    # 위에서 생성한 css selector list 하나씩 클릭하여 본문 url얻기\n",
    "    for i in a:\n",
    "        i.click()\n",
    "\n",
    "        # 현재탭에 접근\n",
    "        driver.switch_to.window(driver.window_handles[1])\n",
    "        time.sleep(3) #대기시간 변경 가능\n",
    "\n",
    "        # 네이버 뉴스 url만 가져오기\n",
    "\n",
    "        url = driver.current_url\n",
    "        print(url)\n",
    "\n",
    "        if \"news.naver.com\" in url:\n",
    "            naver_urls.append(url)\n",
    "  \n",
    "        else:\n",
    "            pass\n",
    "        \n",
    "        # 현재 탭 닫기\n",
    "        driver.close()\n",
    "\n",
    "        # 다시처음 탭으로 돌아가기(매우 중요!!!)\n",
    "        driver.switch_to.window(driver.window_handles[0])\n",
    "\n",
    "print(naver_urls)"
   ]
  },
  {
   "cell_type": "code",
   "execution_count": 37,
   "id": "97b20a5a",
   "metadata": {},
   "outputs": [
    {
     "name": "stdout",
     "output_type": "stream",
     "text": [
      "['[]', '[]', '[]', '[]', '[]', '[]']\n",
      "['[]', '[]', '[]', '[]', '[]', '[]']\n"
     ]
    }
   ],
   "source": [
    "###naver 기사 본문 및 제목 가져오기###\n",
    "\n",
    "# ConnectionError방지\n",
    "headers = { \"User-Agent\": \"Mozilla/5.0 (Windows NT 10.0; Win64; x64) Chrome/98.0.4758.102\" }\n",
    "\n",
    "titles = []\n",
    "contents=[]\n",
    "for i in naver_urls:\n",
    "    original_html = requests.get(i,headers=headers)\n",
    "    html = BeautifulSoup(original_html.text, \"html.parser\")\n",
    "    # 검색결과확인시\n",
    "    #print(html)\n",
    "    \n",
    "    #뉴스 제목 가져오기\n",
    "    title = html.select(\"div.content > div.article_header > div.article_info > h3\")\n",
    "#     title = html.select(\"#sp_nws1 > div > div > a\")\n",
    "    # list합치기\n",
    "    title = ''.join(str(title))\n",
    "    # html태그제거\n",
    "    pattern1 = '<[^>]*>'\n",
    "    title = re.sub(pattern=pattern1,repl='',string=title)\n",
    "    titles.append(title)\n",
    "\n",
    "    #뉴스 본문 가져오기\n",
    "\n",
    "    content = html.select(\"div.content > div#articleBody > div#articleBodyContents\")\n",
    "#     content = html.select(\"#sp_nws1 > div > div > div.news_dsc > div\")\n",
    "\n",
    "    # 기사 텍스트만 가져오기\n",
    "    # list합치기\n",
    "    content = ''.join(str(content))\n",
    "    \n",
    "    #html태그제거 및 텍스트 다듬기\n",
    "    content = re.sub(pattern=pattern1,repl='',string=content)\n",
    "    pattern2 = \"\"\"[\\n\\n\\n\\n\\n// flash 오류를 우회하기 위한 함수 추가\\nfunction _flash_removeCallback() {}\"\"\"\n",
    "    content = content.replace(pattern2,'')\n",
    "\n",
    "    contents.append(content)\n",
    "\n",
    "print(titles)\n",
    "print(contents)"
   ]
  },
  {
   "cell_type": "code",
   "execution_count": 21,
   "id": "ff78a70e",
   "metadata": {},
   "outputs": [],
   "source": [
    "#데이터프레임으로 정리(titles,url,contents)\n",
    "import pandas as pd\n",
    "\n",
    "news_df = pd.DataFrame({'title':titles,'link':naver_urls,'content':contents})\n",
    "\n",
    "news_df.to_csv('NaverNews_%s.csv'%search,index=False,encoding='utf-8-sig')"
   ]
  },
  {
   "cell_type": "code",
   "execution_count": null,
   "id": "20160214",
   "metadata": {},
   "outputs": [],
   "source": []
  }
 ],
 "metadata": {
  "kernelspec": {
   "display_name": "Python 3 (ipykernel)",
   "language": "python",
   "name": "python3"
  },
  "language_info": {
   "codemirror_mode": {
    "name": "ipython",
    "version": 3
   },
   "file_extension": ".py",
   "mimetype": "text/x-python",
   "name": "python",
   "nbconvert_exporter": "python",
   "pygments_lexer": "ipython3",
   "version": "3.10.9"
  }
 },
 "nbformat": 4,
 "nbformat_minor": 5
}

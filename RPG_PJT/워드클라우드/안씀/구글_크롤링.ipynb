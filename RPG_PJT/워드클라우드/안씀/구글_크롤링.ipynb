{
 "cells": [
  {
   "cell_type": "code",
   "execution_count": 62,
   "id": "8f106d27",
   "metadata": {},
   "outputs": [],
   "source": [
    "#필요 패키지 임포트\n",
    "import selenium\n",
    "from selenium import webdriver\n",
    "import pandas as pd\n",
    "from bs4 import BeautifulSoup\n",
    "import numpy as np\n",
    "from selenium.webdriver.common.by import By # 셀레니움 4.0부터 포함된 함수(필수)\n",
    "from urllib.parse import quote_plus"
   ]
  },
  {
   "cell_type": "code",
   "execution_count": 71,
   "id": "8d0f6b72",
   "metadata": {},
   "outputs": [],
   "source": [
    "# url='https://www.google.com/search?q=%EC%BD%98%EC%86%94%EA%B2%8C%EC%9E%84+%ED%8A%B8%EB%A0%8C%EB%93%9C&source=lnms&sa=X&ved=2ahUKEwiczqq-lOr-AhVWfN4KHY_cB-oQ_AUoAHoECAEQAg&biw=1007&bih=1043&dpr=1'"
   ]
  },
  {
   "cell_type": "code",
   "execution_count": 68,
   "id": "fa0e7c1f",
   "metadata": {},
   "outputs": [
    {
     "name": "stderr",
     "output_type": "stream",
     "text": [
      "C:\\Users\\jihye\\AppData\\Local\\Temp\\ipykernel_19784\\3506397282.py:1: DeprecationWarning: executable_path has been deprecated, please pass in a Service object\n",
      "  driver = webdriver.Chrome('./driver/chromedriver.exe')\n"
     ]
    }
   ],
   "source": [
    "driver = webdriver.Chrome('./driver/chromedriver.exe')"
   ]
  },
  {
   "cell_type": "code",
   "execution_count": 69,
   "id": "49f4cfd1",
   "metadata": {},
   "outputs": [
    {
     "name": "stdout",
     "output_type": "stream",
     "text": [
      "검색어 입력 : 크롤링\n"
     ]
    },
    {
     "ename": "TypeError",
     "evalue": "unsupported operand type(s) for +: 'NoneType' and 'str'",
     "output_type": "error",
     "traceback": [
      "\u001b[1;31m---------------------------------------------------------------------------\u001b[0m",
      "\u001b[1;31mTypeError\u001b[0m                                 Traceback (most recent call last)",
      "Cell \u001b[1;32mIn[69], line 4\u001b[0m\n\u001b[0;32m      2\u001b[0m search \u001b[38;5;241m=\u001b[39m \u001b[38;5;28minput\u001b[39m(\u001b[38;5;124m'\u001b[39m\u001b[38;5;124m검색어 입력 : \u001b[39m\u001b[38;5;124m'\u001b[39m)\n\u001b[0;32m      3\u001b[0m url \u001b[38;5;241m=\u001b[39m driver\u001b[38;5;241m.\u001b[39mget(\u001b[38;5;124m\"\u001b[39m\u001b[38;5;124mhttps://www.google.com/search?q=\u001b[39m\u001b[38;5;124m\"\u001b[39m)\n\u001b[1;32m----> 4\u001b[0m newurl \u001b[38;5;241m=\u001b[39m \u001b[43murl\u001b[49m\u001b[43m \u001b[49m\u001b[38;5;241;43m+\u001b[39;49m\u001b[43m \u001b[49m\u001b[43mquote_plus\u001b[49m\u001b[43m(\u001b[49m\u001b[43msearch\u001b[49m\u001b[43m)\u001b[49m\n\u001b[0;32m      6\u001b[0m driver \u001b[38;5;241m=\u001b[39m webdriver\u001b[38;5;241m.\u001b[39mChrome()\n\u001b[0;32m      7\u001b[0m driver\u001b[38;5;241m.\u001b[39mget(url)\n",
      "\u001b[1;31mTypeError\u001b[0m: unsupported operand type(s) for +: 'NoneType' and 'str'"
     ]
    }
   ],
   "source": [
    "# 웹사이트\n",
    "search = input('검색어 입력 : ')\n",
    "url = driver.get(\"https://www.google.com/search?q=\")\n",
    "newurl = url + quote_plus(search)\n",
    "\n",
    "driver = webdriver.Chrome()\n",
    "driver.get(url)\n",
    "\n",
    "html = driver.page_source\n",
    "soup = BeautifulSoup(html)\n",
    "\n",
    "r = soup.select('.r')\n",
    "\n",
    "for i in r:\n",
    "    print(i.select_one('.LC20lb.DKV0Md').text)\n",
    "    print(i.a.attrs['href'])\n",
    "    print()\n",
    "    \n",
    "driver.close()\n"
   ]
  },
  {
   "cell_type": "code",
   "execution_count": 51,
   "id": "3dbe3ec4",
   "metadata": {},
   "outputs": [],
   "source": [
    "# 웹사이트\n",
    "driver.get(\"https://www.google.com/search?q=\")\n",
    "driver.implicitly_wait(10) # 10초 대기"
   ]
  },
  {
   "cell_type": "code",
   "execution_count": 52,
   "id": "4153dde8",
   "metadata": {},
   "outputs": [],
   "source": [
    "from selenium.webdriver.common.keys import Keys"
   ]
  },
  {
   "cell_type": "code",
   "execution_count": 42,
   "id": "a0088efb",
   "metadata": {},
   "outputs": [],
   "source": [
    "# # 검색창 선택 후 클릭\n",
    "# search = driver.find_element(By.CSS_SELECTOR,'body > div.L3eUgb > div.o3j99.ikrT4e.om7nvf > form > div:nth-child(1) > div.A8SBwf > div.RNNXgb > div > div.iblpc > div > span > svg > path')\n",
    "# search.click()"
   ]
  },
  {
   "cell_type": "code",
   "execution_count": 55,
   "id": "e361ea28",
   "metadata": {},
   "outputs": [],
   "source": [
    "# search.send_keys('콘솔게임트렌드')\n",
    "# plusurl = input('검색어 입력 : ')"
   ]
  },
  {
   "cell_type": "code",
   "execution_count": 62,
   "id": "fb31b29e",
   "metadata": {},
   "outputs": [],
   "source": [
    "# 뉴스 탭 클릭\n",
    "xpath = '//*[@id=\"hdtb-msb\"]/div[1]/div/div[3]/a'\n",
    "menu = driver.find_element(By.XPATH,xpath)"
   ]
  },
  {
   "cell_type": "code",
   "execution_count": 63,
   "id": "b6e118da",
   "metadata": {},
   "outputs": [],
   "source": [
    "# menu에 대한 스크립트 코드 동작 - 마우스에 반응하는 메뉴이므로\n",
    "# 해당태그를 찾아서 sub메뉴를 클릭 스크립트 구성\n",
    "driver.execute_script(\"arguments[0].click();\",menu)"
   ]
  },
  {
   "cell_type": "code",
   "execution_count": 64,
   "id": "ee7f7f49",
   "metadata": {},
   "outputs": [
    {
     "data": {
      "text/plain": [
       "0"
      ]
     },
     "execution_count": 64,
     "metadata": {},
     "output_type": "execute_result"
    }
   ],
   "source": [
    "# 스크롤 실행 전 높이\n",
    "before_h = driver.execute_script('return window.scrollY')\n",
    "before_h"
   ]
  },
  {
   "cell_type": "code",
   "execution_count": 65,
   "id": "fbb02930",
   "metadata": {},
   "outputs": [
    {
     "name": "stdout",
     "output_type": "stream",
     "text": [
      "749\n",
      "749\n"
     ]
    }
   ],
   "source": [
    "# 무한 스크롤\n",
    "# body태그 객체를 찾고 키보드의 end키를 전송\n",
    "while True :\n",
    "    # 현재 화면의 맨 아래로 스크롤을 내리기\n",
    "    driver.find_element(By.CSS_SELECTOR,'body').send_keys(Keys.END)\n",
    "    # 스크롤 후 페이지 로딩시간 대기\n",
    "    time.sleep(1)\n",
    "    \n",
    "    # 스크롤 후 현재 위치\n",
    "    after_h = driver.execute_script('return window.scrollY')\n",
    "    print(after_h)\n",
    "    if after_h == before_h :\n",
    "        break\n",
    "    before_h = after_h"
   ]
  },
  {
   "cell_type": "code",
   "execution_count": 70,
   "id": "27a866f1",
   "metadata": {},
   "outputs": [
    {
     "name": "stdout",
     "output_type": "stream",
     "text": [
      "[]\n"
     ]
    }
   ],
   "source": [
    "# 뉴스 헤드라인 추출 클래스명  : n0jPhd ynAwRc MBeuO nDgy9d\n",
    "items = driver.find_elements(By.CSS_SELECTOR,\"n0jPhd ynAwRc MBeuO nDgy9d\")\n",
    "\n",
    "print(items)"
   ]
  },
  {
   "cell_type": "code",
   "execution_count": 69,
   "id": "5a5bab4c",
   "metadata": {},
   "outputs": [],
   "source": [
    "#.basicList_title__VfX3c\n",
    "for item in items :\n",
    "    head_line = item.find_element(By.CSS_SELECTOR,\"n0jPhd ynAwRc MBeuO nDgy9d\").text\n",
    "    news = item.find_element(By.CSS_SELECTOR,\"GI74Re nDgy9d\").text\n",
    "    \n",
    "#     try : \n",
    "#         price = item.find_element(By.CSS_SELECTOR,\".price_price__LEGN7\").text\n",
    "#     except :\n",
    "#         price = '판매중단'\n",
    "    link = item.find_element(By.CSS_SELECTOR,\".basicList_title__VfX3c > a\").get_attribute('href')\n",
    "    print(head_line,news, link)"
   ]
  },
  {
   "cell_type": "code",
   "execution_count": 71,
   "id": "ae590f05",
   "metadata": {},
   "outputs": [],
   "source": [
    "driver.close()"
   ]
  }
 ],
 "metadata": {
  "kernelspec": {
   "display_name": "Python 3 (ipykernel)",
   "language": "python",
   "name": "python3"
  },
  "language_info": {
   "codemirror_mode": {
    "name": "ipython",
    "version": 3
   },
   "file_extension": ".py",
   "mimetype": "text/x-python",
   "name": "python",
   "nbconvert_exporter": "python",
   "pygments_lexer": "ipython3",
   "version": "3.10.9"
  }
 },
 "nbformat": 4,
 "nbformat_minor": 5
}

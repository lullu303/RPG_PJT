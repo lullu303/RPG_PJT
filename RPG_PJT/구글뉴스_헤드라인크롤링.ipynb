{
 "cells": [
  {
   "cell_type": "code",
   "execution_count": 1,
   "id": "de1f403e",
   "metadata": {},
   "outputs": [],
   "source": [
    "# 패키지 임포트\n",
    "import time\n",
    "from selenium import webdriver\n",
    "from selenium.webdriver.common.by import By\n",
    "from selenium.webdriver.common.keys import Keys\n",
    "from bs4 import BeautifulSoup\n",
    "\n",
    "\n",
    "# 구글뉴스 검색 후 기사 헤드라인 크롤링 후 txt파일로 저장하는 함수 세팅\n",
    "\n",
    "\n",
    "def save_headlines_to_file(search_terms):\n",
    "    # 드라이버 세팅\n",
    "    driver = webdriver.Chrome('../분석패키지/문제/driver/chromedriver')\n",
    "    # 기본 url은 구글뉴스\n",
    "    driver.get(\"https://news.google.com/home?hl=ko&gl=KR&ceid=KR:ko\")\n",
    "    \n",
    "    # 페이지로드 기다리기\n",
    "    time.sleep(5)\n",
    "    \n",
    "    # 검색창에 검색어리스트 내 요소 입력하게 for문 생성----------------------\n",
    "    for search in search_terms:\n",
    "        # 검색창 접근\n",
    "        search_input = driver.find_element(By.XPATH, '//input[@type=\"text\"]')\n",
    "        search_input.clear()\n",
    "        #검색어 입력 후 엔터키 입력\n",
    "        search_input.send_keys(search)\n",
    "        search_input.send_keys(Keys.ENTER)\n",
    "\n",
    "        time.sleep(3)\n",
    "        \n",
    "        # html파싱-------------------------------------------------------------\n",
    "        html = driver.page_source\n",
    "        soup = BeautifulSoup(html, 'html.parser')\n",
    "        # 헤드라인이 들어있는 부분 \n",
    "        results = soup.find_all('h3', class_='ipQwMb')\n",
    "        # 빈리스트 생성 후 헤드라인 텍스트 추출 및 append\n",
    "        headlines = []\n",
    "        for result in results:\n",
    "            headline = result.text.strip()\n",
    "            headlines.append(headline)\n",
    "            \n",
    "        # 추출한 헤드라인텍스트 txt파일로 저장---------------------------------\n",
    "        with open(f\"{search}.txt\", 'w', encoding='utf-8') as file:\n",
    "            file.write('\\n'.join(headlines))\n",
    "        # 문제없이 저장되었는지 확인\n",
    "        print(f\"{search}.txt saved\")\n",
    "\n",
    "        # 검색어 중첩으로 동일한 내용의 헤드라인이 추출되는 오류가 계속됨,\n",
    "        # base page로 다시 가서 검색하게 세팅하는 것으로 해결------------------\n",
    "        driver.get(\"https://news.google.com/home?hl=ko&gl=KR&ceid=KR:ko\")\n",
    "\n",
    "    driver.quit()"
   ]
  },
  {
   "cell_type": "code",
   "execution_count": 3,
   "id": "c21d51db",
   "metadata": {},
   "outputs": [
    {
     "name": "stderr",
     "output_type": "stream",
     "text": [
      "C:\\Users\\jihye\\AppData\\Local\\Temp\\ipykernel_18612\\1478049502.py:14: DeprecationWarning: executable_path has been deprecated, please pass in a Service object\n",
      "  driver = webdriver.Chrome('../분석패키지/문제/driver/chromedriver')\n"
     ]
    },
    {
     "name": "stdout",
     "output_type": "stream",
     "text": [
      "콘솔게임 시장.txt saved\n",
      "엔데믹 게임.txt saved\n",
      "비디오게임.txt saved\n",
      "게임 전망.txt saved\n",
      "콘솔게임 매출.txt saved\n",
      "인기 콘솔게임.txt saved\n",
      "인기 비디오게임.txt saved\n",
      "콘솔게임.txt saved\n",
      "콘솔게임 개발.txt saved\n",
      "게임개발.txt saved\n",
      "콘솔 트렌드.txt saved\n",
      "게임장르.txt saved\n"
     ]
    }
   ],
   "source": [
    "# 검색어 리스트 제시 및 함수호출 -------------------------------------------------\n",
    "search_terms = [\"콘솔게임 시장\", \"엔데믹 게임\", \"비디오게임\", \"게임 전망\", \"콘솔게임 매출\", \"인기 콘솔게임\", \"인기 비디오게임\", \"콘솔게임\", \"콘솔게임 개발\", \"게임개발\", \"콘솔 트렌드\", \"게임장르\"]\n",
    "save_headlines_to_file(search_terms)\n"
   ]
  },
  {
   "cell_type": "code",
   "execution_count": null,
   "id": "811f0555",
   "metadata": {},
   "outputs": [],
   "source": []
  }
 ],
 "metadata": {
  "kernelspec": {
   "display_name": "Python 3 (ipykernel)",
   "language": "python",
   "name": "python3"
  },
  "language_info": {
   "codemirror_mode": {
    "name": "ipython",
    "version": 3
   },
   "file_extension": ".py",
   "mimetype": "text/x-python",
   "name": "python",
   "nbconvert_exporter": "python",
   "pygments_lexer": "ipython3",
   "version": "3.10.9"
  }
 },
 "nbformat": 4,
 "nbformat_minor": 5
}

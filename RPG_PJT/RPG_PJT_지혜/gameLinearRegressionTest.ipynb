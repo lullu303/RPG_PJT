{
 "cells": [
  {
   "cell_type": "code",
   "execution_count": 1,
   "id": "9f4f1468",
   "metadata": {},
   "outputs": [],
   "source": [
    "import pandas as pd\n",
    "import numpy as np\n",
    "import seaborn as sns\n",
    "import matplotlib.pyplot as plt\n",
    "from scipy import stats\n",
    "from scipy.stats import chisquare\n",
    "from scipy.stats import chi2_contingency\n",
    "from scipy.stats import normaltest"
   ]
  },
  {
   "cell_type": "code",
   "execution_count": 12,
   "id": "7f743052",
   "metadata": {},
   "outputs": [
    {
     "data": {
      "text/html": [
       "<div>\n",
       "<style scoped>\n",
       "    .dataframe tbody tr th:only-of-type {\n",
       "        vertical-align: middle;\n",
       "    }\n",
       "\n",
       "    .dataframe tbody tr th {\n",
       "        vertical-align: top;\n",
       "    }\n",
       "\n",
       "    .dataframe thead th {\n",
       "        text-align: right;\n",
       "    }\n",
       "</style>\n",
       "<table border=\"1\" class=\"dataframe\">\n",
       "  <thead>\n",
       "    <tr style=\"text-align: right;\">\n",
       "      <th></th>\n",
       "      <th>Name</th>\n",
       "      <th>Platform</th>\n",
       "      <th>Year</th>\n",
       "      <th>Genre</th>\n",
       "      <th>Publisher</th>\n",
       "      <th>NA_</th>\n",
       "      <th>EU_</th>\n",
       "      <th>JP_</th>\n",
       "      <th>Other_</th>\n",
       "      <th>Global_</th>\n",
       "      <th>C_Score</th>\n",
       "      <th>U_Score</th>\n",
       "      <th>Rating</th>\n",
       "    </tr>\n",
       "  </thead>\n",
       "  <tbody>\n",
       "    <tr>\n",
       "      <th>0</th>\n",
       "      <td>SuperMarioWorld</td>\n",
       "      <td>SNES</td>\n",
       "      <td>1990</td>\n",
       "      <td>Platform</td>\n",
       "      <td>Nintendo</td>\n",
       "      <td>38.73</td>\n",
       "      <td>11.36</td>\n",
       "      <td>10.73</td>\n",
       "      <td>1.67</td>\n",
       "      <td>62.45</td>\n",
       "      <td>100.0</td>\n",
       "      <td>NaN</td>\n",
       "      <td>NaN</td>\n",
       "    </tr>\n",
       "    <tr>\n",
       "      <th>1</th>\n",
       "      <td>TheLegendofZelda:OcarinaofTime</td>\n",
       "      <td>N64</td>\n",
       "      <td>1998</td>\n",
       "      <td>Action</td>\n",
       "      <td>Nintendo</td>\n",
       "      <td>16.40</td>\n",
       "      <td>7.56</td>\n",
       "      <td>5.80</td>\n",
       "      <td>0.64</td>\n",
       "      <td>30.40</td>\n",
       "      <td>99.0</td>\n",
       "      <td>NaN</td>\n",
       "      <td>NaN</td>\n",
       "    </tr>\n",
       "    <tr>\n",
       "      <th>2</th>\n",
       "      <td>GrandTheftAutoIV</td>\n",
       "      <td>X360</td>\n",
       "      <td>2008</td>\n",
       "      <td>Action</td>\n",
       "      <td>Take-Two Interactive</td>\n",
       "      <td>45.07</td>\n",
       "      <td>20.47</td>\n",
       "      <td>0.93</td>\n",
       "      <td>6.87</td>\n",
       "      <td>73.40</td>\n",
       "      <td>98.0</td>\n",
       "      <td>7.9</td>\n",
       "      <td>M</td>\n",
       "    </tr>\n",
       "    <tr>\n",
       "      <th>3</th>\n",
       "      <td>GrandTheftAutoIV</td>\n",
       "      <td>PS3</td>\n",
       "      <td>2008</td>\n",
       "      <td>Action</td>\n",
       "      <td>Take-Two Interactive</td>\n",
       "      <td>31.73</td>\n",
       "      <td>24.60</td>\n",
       "      <td>2.93</td>\n",
       "      <td>10.73</td>\n",
       "      <td>70.00</td>\n",
       "      <td>98.0</td>\n",
       "      <td>7.5</td>\n",
       "      <td>M</td>\n",
       "    </tr>\n",
       "    <tr>\n",
       "      <th>4</th>\n",
       "      <td>TonyHawk'sProSkater2</td>\n",
       "      <td>PS</td>\n",
       "      <td>2000</td>\n",
       "      <td>Sports</td>\n",
       "      <td>Activision</td>\n",
       "      <td>13.26</td>\n",
       "      <td>6.13</td>\n",
       "      <td>0.09</td>\n",
       "      <td>0.87</td>\n",
       "      <td>20.35</td>\n",
       "      <td>98.0</td>\n",
       "      <td>7.7</td>\n",
       "      <td>T</td>\n",
       "    </tr>\n",
       "  </tbody>\n",
       "</table>\n",
       "</div>"
      ],
      "text/plain": [
       "                             Name Platform  Year     Genre  \\\n",
       "0                 SuperMarioWorld     SNES  1990  Platform   \n",
       "1  TheLegendofZelda:OcarinaofTime      N64  1998    Action   \n",
       "2                GrandTheftAutoIV     X360  2008    Action   \n",
       "3                GrandTheftAutoIV      PS3  2008    Action   \n",
       "4            TonyHawk'sProSkater2       PS  2000    Sports   \n",
       "\n",
       "              Publisher    NA_    EU_    JP_  Other_  Global_  C_Score  \\\n",
       "0              Nintendo  38.73  11.36  10.73    1.67    62.45    100.0   \n",
       "1              Nintendo  16.40   7.56   5.80    0.64    30.40     99.0   \n",
       "2  Take-Two Interactive  45.07  20.47   0.93    6.87    73.40     98.0   \n",
       "3  Take-Two Interactive  31.73  24.60   2.93   10.73    70.00     98.0   \n",
       "4            Activision  13.26   6.13   0.09    0.87    20.35     98.0   \n",
       "\n",
       "  U_Score Rating  \n",
       "0     NaN    NaN  \n",
       "1     NaN    NaN  \n",
       "2     7.9      M  \n",
       "3     7.5      M  \n",
       "4     7.7      T  "
      ]
     },
     "execution_count": 12,
     "metadata": {},
     "output_type": "execute_result"
    }
   ],
   "source": [
    "df = pd.read_csv('./data/Video_Games(정제2).csv')\n",
    "df.head()"
   ]
  },
  {
   "cell_type": "code",
   "execution_count": 13,
   "id": "69cbb7e8",
   "metadata": {},
   "outputs": [
    {
     "data": {
      "text/html": [
       "<div>\n",
       "<style scoped>\n",
       "    .dataframe tbody tr th:only-of-type {\n",
       "        vertical-align: middle;\n",
       "    }\n",
       "\n",
       "    .dataframe tbody tr th {\n",
       "        vertical-align: top;\n",
       "    }\n",
       "\n",
       "    .dataframe thead th {\n",
       "        text-align: right;\n",
       "    }\n",
       "</style>\n",
       "<table border=\"1\" class=\"dataframe\">\n",
       "  <thead>\n",
       "    <tr style=\"text-align: right;\">\n",
       "      <th></th>\n",
       "      <th>Year</th>\n",
       "      <th>Genre</th>\n",
       "      <th>Global_</th>\n",
       "    </tr>\n",
       "  </thead>\n",
       "  <tbody>\n",
       "    <tr>\n",
       "      <th>0</th>\n",
       "      <td>1990</td>\n",
       "      <td>Platform</td>\n",
       "      <td>62.45</td>\n",
       "    </tr>\n",
       "    <tr>\n",
       "      <th>1</th>\n",
       "      <td>1998</td>\n",
       "      <td>Action</td>\n",
       "      <td>30.40</td>\n",
       "    </tr>\n",
       "    <tr>\n",
       "      <th>2</th>\n",
       "      <td>2008</td>\n",
       "      <td>Action</td>\n",
       "      <td>73.40</td>\n",
       "    </tr>\n",
       "  </tbody>\n",
       "</table>\n",
       "</div>"
      ],
      "text/plain": [
       "   Year     Genre  Global_\n",
       "0  1990  Platform    62.45\n",
       "1  1998    Action    30.40\n",
       "2  2008    Action    73.40"
      ]
     },
     "execution_count": 13,
     "metadata": {},
     "output_type": "execute_result"
    }
   ],
   "source": [
    "newdf=df[['Year','Genre', 'Global_']]\n",
    "newdf.head(3)"
   ]
  },
  {
   "cell_type": "code",
   "execution_count": 14,
   "id": "f5e6ace4",
   "metadata": {},
   "outputs": [
    {
     "data": {
      "text/html": [
       "<div>\n",
       "<style scoped>\n",
       "    .dataframe tbody tr th:only-of-type {\n",
       "        vertical-align: middle;\n",
       "    }\n",
       "\n",
       "    .dataframe tbody tr th {\n",
       "        vertical-align: top;\n",
       "    }\n",
       "\n",
       "    .dataframe thead th {\n",
       "        text-align: right;\n",
       "    }\n",
       "</style>\n",
       "<table border=\"1\" class=\"dataframe\">\n",
       "  <thead>\n",
       "    <tr style=\"text-align: right;\">\n",
       "      <th></th>\n",
       "      <th>Year</th>\n",
       "      <th>Genre_Platform</th>\n",
       "      <th>Genre_Action</th>\n",
       "      <th>Genre_Sports</th>\n",
       "      <th>Genre_Fighting</th>\n",
       "      <th>Genre_Shooter</th>\n",
       "      <th>Genre_Role-Playing</th>\n",
       "      <th>Genre_Racing</th>\n",
       "      <th>Genre_Strategy</th>\n",
       "      <th>Genre_Misc</th>\n",
       "      <th>Genre_Adventure</th>\n",
       "      <th>Genre_Simulation</th>\n",
       "      <th>Genre_Puzzle</th>\n",
       "      <th>Global_</th>\n",
       "    </tr>\n",
       "  </thead>\n",
       "  <tbody>\n",
       "    <tr>\n",
       "      <th>0</th>\n",
       "      <td>1990</td>\n",
       "      <td>1</td>\n",
       "      <td>0</td>\n",
       "      <td>0</td>\n",
       "      <td>0</td>\n",
       "      <td>0</td>\n",
       "      <td>0</td>\n",
       "      <td>0</td>\n",
       "      <td>0</td>\n",
       "      <td>0</td>\n",
       "      <td>0</td>\n",
       "      <td>0</td>\n",
       "      <td>0</td>\n",
       "      <td>62.45</td>\n",
       "    </tr>\n",
       "    <tr>\n",
       "      <th>1</th>\n",
       "      <td>1998</td>\n",
       "      <td>0</td>\n",
       "      <td>1</td>\n",
       "      <td>0</td>\n",
       "      <td>0</td>\n",
       "      <td>0</td>\n",
       "      <td>0</td>\n",
       "      <td>0</td>\n",
       "      <td>0</td>\n",
       "      <td>0</td>\n",
       "      <td>0</td>\n",
       "      <td>0</td>\n",
       "      <td>0</td>\n",
       "      <td>30.40</td>\n",
       "    </tr>\n",
       "    <tr>\n",
       "      <th>2</th>\n",
       "      <td>2008</td>\n",
       "      <td>0</td>\n",
       "      <td>1</td>\n",
       "      <td>0</td>\n",
       "      <td>0</td>\n",
       "      <td>0</td>\n",
       "      <td>0</td>\n",
       "      <td>0</td>\n",
       "      <td>0</td>\n",
       "      <td>0</td>\n",
       "      <td>0</td>\n",
       "      <td>0</td>\n",
       "      <td>0</td>\n",
       "      <td>73.40</td>\n",
       "    </tr>\n",
       "  </tbody>\n",
       "</table>\n",
       "</div>"
      ],
      "text/plain": [
       "   Year  Genre_Platform  Genre_Action  Genre_Sports  Genre_Fighting  \\\n",
       "0  1990               1             0             0               0   \n",
       "1  1998               0             1             0               0   \n",
       "2  2008               0             1             0               0   \n",
       "\n",
       "   Genre_Shooter  Genre_Role-Playing  Genre_Racing  Genre_Strategy  \\\n",
       "0              0                   0             0               0   \n",
       "1              0                   0             0               0   \n",
       "2              0                   0             0               0   \n",
       "\n",
       "   Genre_Misc  Genre_Adventure  Genre_Simulation  Genre_Puzzle  Global_  \n",
       "0           0                0                 0             0    62.45  \n",
       "1           0                0                 0             0    30.40  \n",
       "2           0                0                 0             0    73.40  "
      ]
     },
     "execution_count": 14,
     "metadata": {},
     "output_type": "execute_result"
    }
   ],
   "source": [
    "target='Global_'\n",
    "from category_encoders import OneHotEncoder\n",
    "encoder = OneHotEncoder(use_cat_names = True)\n",
    "df_encoded = encoder.fit_transform(newdf)\n",
    "df_encoded.head(3)"
   ]
  },
  {
   "cell_type": "code",
   "execution_count": 15,
   "id": "76f0c038",
   "metadata": {},
   "outputs": [],
   "source": [
    "from sklearn.model_selection import train_test_split\n",
    "#먼저 테스트세트 분리\n",
    "trainval, test=train_test_split(df_encoded)\n",
    "#그다음 훈련/ 검증 분리\n",
    "train, val=train_test_split(trainval)"
   ]
  },
  {
   "cell_type": "code",
   "execution_count": 16,
   "id": "8005355a",
   "metadata": {},
   "outputs": [
    {
     "name": "stdout",
     "output_type": "stream",
     "text": [
      "['Year', 'Genre_Platform', 'Genre_Action', 'Genre_Sports', 'Genre_Fighting', 'Genre_Shooter', 'Genre_Role-Playing', 'Genre_Racing', 'Genre_Strategy', 'Genre_Misc', 'Genre_Adventure', 'Genre_Simulation', 'Genre_Puzzle', 'Global_']\n"
     ]
    }
   ],
   "source": [
    "feature=list(train)\n",
    "print(feature)"
   ]
  },
  {
   "cell_type": "code",
   "execution_count": 17,
   "id": "f2dfe682",
   "metadata": {},
   "outputs": [],
   "source": [
    "features= ['Year','Genre_Platform', 'Genre_Action', 'Genre_Sports', 'Genre_Fighting', 'Genre_Shooter', 'Genre_Role-Playing', 'Genre_Racing', 'Genre_Strategy', 'Genre_Misc', 'Genre_Adventure', 'Genre_Simulation', 'Genre_Puzzle']\n",
    "X_train=train[features]\n",
    "X_val=val[features]\n",
    "X_test=test[features]\n",
    "y_train=train[target]\n",
    "y_val=val[target]\n",
    "y_test=test[target]"
   ]
  },
  {
   "cell_type": "code",
   "execution_count": 18,
   "id": "19593ae8",
   "metadata": {},
   "outputs": [
    {
     "data": {
      "text/html": [
       "<style>#sk-container-id-2 {color: black;background-color: white;}#sk-container-id-2 pre{padding: 0;}#sk-container-id-2 div.sk-toggleable {background-color: white;}#sk-container-id-2 label.sk-toggleable__label {cursor: pointer;display: block;width: 100%;margin-bottom: 0;padding: 0.3em;box-sizing: border-box;text-align: center;}#sk-container-id-2 label.sk-toggleable__label-arrow:before {content: \"▸\";float: left;margin-right: 0.25em;color: #696969;}#sk-container-id-2 label.sk-toggleable__label-arrow:hover:before {color: black;}#sk-container-id-2 div.sk-estimator:hover label.sk-toggleable__label-arrow:before {color: black;}#sk-container-id-2 div.sk-toggleable__content {max-height: 0;max-width: 0;overflow: hidden;text-align: left;background-color: #f0f8ff;}#sk-container-id-2 div.sk-toggleable__content pre {margin: 0.2em;color: black;border-radius: 0.25em;background-color: #f0f8ff;}#sk-container-id-2 input.sk-toggleable__control:checked~div.sk-toggleable__content {max-height: 200px;max-width: 100%;overflow: auto;}#sk-container-id-2 input.sk-toggleable__control:checked~label.sk-toggleable__label-arrow:before {content: \"▾\";}#sk-container-id-2 div.sk-estimator input.sk-toggleable__control:checked~label.sk-toggleable__label {background-color: #d4ebff;}#sk-container-id-2 div.sk-label input.sk-toggleable__control:checked~label.sk-toggleable__label {background-color: #d4ebff;}#sk-container-id-2 input.sk-hidden--visually {border: 0;clip: rect(1px 1px 1px 1px);clip: rect(1px, 1px, 1px, 1px);height: 1px;margin: -1px;overflow: hidden;padding: 0;position: absolute;width: 1px;}#sk-container-id-2 div.sk-estimator {font-family: monospace;background-color: #f0f8ff;border: 1px dotted black;border-radius: 0.25em;box-sizing: border-box;margin-bottom: 0.5em;}#sk-container-id-2 div.sk-estimator:hover {background-color: #d4ebff;}#sk-container-id-2 div.sk-parallel-item::after {content: \"\";width: 100%;border-bottom: 1px solid gray;flex-grow: 1;}#sk-container-id-2 div.sk-label:hover label.sk-toggleable__label {background-color: #d4ebff;}#sk-container-id-2 div.sk-serial::before {content: \"\";position: absolute;border-left: 1px solid gray;box-sizing: border-box;top: 0;bottom: 0;left: 50%;z-index: 0;}#sk-container-id-2 div.sk-serial {display: flex;flex-direction: column;align-items: center;background-color: white;padding-right: 0.2em;padding-left: 0.2em;position: relative;}#sk-container-id-2 div.sk-item {position: relative;z-index: 1;}#sk-container-id-2 div.sk-parallel {display: flex;align-items: stretch;justify-content: center;background-color: white;position: relative;}#sk-container-id-2 div.sk-item::before, #sk-container-id-2 div.sk-parallel-item::before {content: \"\";position: absolute;border-left: 1px solid gray;box-sizing: border-box;top: 0;bottom: 0;left: 50%;z-index: -1;}#sk-container-id-2 div.sk-parallel-item {display: flex;flex-direction: column;z-index: 1;position: relative;background-color: white;}#sk-container-id-2 div.sk-parallel-item:first-child::after {align-self: flex-end;width: 50%;}#sk-container-id-2 div.sk-parallel-item:last-child::after {align-self: flex-start;width: 50%;}#sk-container-id-2 div.sk-parallel-item:only-child::after {width: 0;}#sk-container-id-2 div.sk-dashed-wrapped {border: 1px dashed gray;margin: 0 0.4em 0.5em 0.4em;box-sizing: border-box;padding-bottom: 0.4em;background-color: white;}#sk-container-id-2 div.sk-label label {font-family: monospace;font-weight: bold;display: inline-block;line-height: 1.2em;}#sk-container-id-2 div.sk-label-container {text-align: center;}#sk-container-id-2 div.sk-container {/* jupyter's `normalize.less` sets `[hidden] { display: none; }` but bootstrap.min.css set `[hidden] { display: none !important; }` so we also need the `!important` here to be able to override the default hidden behavior on the sphinx rendered scikit-learn.org. See: https://github.com/scikit-learn/scikit-learn/issues/21755 */display: inline-block !important;position: relative;}#sk-container-id-2 div.sk-text-repr-fallback {display: none;}</style><div id=\"sk-container-id-2\" class=\"sk-top-container\"><div class=\"sk-text-repr-fallback\"><pre>LinearRegression()</pre><b>In a Jupyter environment, please rerun this cell to show the HTML representation or trust the notebook. <br />On GitHub, the HTML representation is unable to render, please try loading this page with nbviewer.org.</b></div><div class=\"sk-container\" hidden><div class=\"sk-item\"><div class=\"sk-estimator sk-toggleable\"><input class=\"sk-toggleable__control sk-hidden--visually\" id=\"sk-estimator-id-2\" type=\"checkbox\" checked><label for=\"sk-estimator-id-2\" class=\"sk-toggleable__label sk-toggleable__label-arrow\">LinearRegression</label><div class=\"sk-toggleable__content\"><pre>LinearRegression()</pre></div></div></div></div></div>"
      ],
      "text/plain": [
       "LinearRegression()"
      ]
     },
     "execution_count": 18,
     "metadata": {},
     "output_type": "execute_result"
    }
   ],
   "source": [
    "from sklearn.linear_model import LinearRegression\n",
    "model=LinearRegression()\n",
    "model.fit(X_train, y_train)"
   ]
  },
  {
   "cell_type": "code",
   "execution_count": 19,
   "id": "ec8c64ad",
   "metadata": {},
   "outputs": [],
   "source": [
    "y_val_pred=model.predict(X_val)"
   ]
  },
  {
   "cell_type": "code",
   "execution_count": 20,
   "id": "cdbb18f5",
   "metadata": {},
   "outputs": [
    {
     "name": "stdout",
     "output_type": "stream",
     "text": [
      "검증데이터 평가\n",
      "검증데이터 MSE: 87.0647748456043\n",
      "검증데이터 RMSE: 9.330850703210523\n",
      "검증데이터 MAE: 3.782764023132977\n",
      "검증데이터 r2: 0.015348209927499412\n"
     ]
    }
   ],
   "source": [
    "from sklearn.metrics import mean_absolute_error, mean_squared_error, r2_score\n",
    "mse_val=mean_squared_error(y_val, y_val_pred)\n",
    "rmse_val=mse_val**0.5\n",
    "mae_val=mean_absolute_error(y_val, y_val_pred)\n",
    "r2_val=r2_score(y_val, y_val_pred)\n",
    "print('검증데이터 평가')\n",
    "print('검증데이터 MSE:', mse_val)\n",
    "print('검증데이터 RMSE:', rmse_val)\n",
    "print('검증데이터 MAE:', mae_val)\n",
    "print('검증데이터 r2:', r2_val)"
   ]
  },
  {
   "cell_type": "code",
   "execution_count": 21,
   "id": "6a7e6a1b",
   "metadata": {},
   "outputs": [
    {
     "name": "stdout",
     "output_type": "stream",
     "text": [
      "테스트데이터 평가\n",
      "테스트데이터 MSE: 99.67011786217014\n",
      "테스트데이터 RMSE: 9.983492267847467\n",
      "테스트데이터 MAE: 3.842497905968015\n",
      "테스트데이터 r2: 0.02200213685017338\n"
     ]
    }
   ],
   "source": [
    "model.fit(X_val, y_val)\n",
    "y_test_pred=model.predict(X_test)\n",
    "mse_test=mean_squared_error(y_test, y_test_pred)\n",
    "rmse_test=mse_test**0.5\n",
    "mae_test=mean_absolute_error(y_test, y_test_pred)\n",
    "r2_test=r2_score(y_test, y_test_pred)\n",
    "print('테스트데이터 평가')\n",
    "print('테스트데이터 MSE:', mse_test)\n",
    "print('테스트데이터 RMSE:', rmse_test)\n",
    "print('테스트데이터 MAE:', mae_test)\n",
    "print('테스트데이터 r2:', r2_test)"
   ]
  },
  {
   "cell_type": "code",
   "execution_count": null,
   "id": "f1d8715b",
   "metadata": {},
   "outputs": [],
   "source": []
  },
  {
   "cell_type": "code",
   "execution_count": null,
   "id": "9a4c5730",
   "metadata": {},
   "outputs": [],
   "source": []
  }
 ],
 "metadata": {
  "kernelspec": {
   "display_name": "Python 3 (ipykernel)",
   "language": "python",
   "name": "python3"
  },
  "language_info": {
   "codemirror_mode": {
    "name": "ipython",
    "version": 3
   },
   "file_extension": ".py",
   "mimetype": "text/x-python",
   "name": "python",
   "nbconvert_exporter": "python",
   "pygments_lexer": "ipython3",
   "version": "3.10.9"
  }
 },
 "nbformat": 4,
 "nbformat_minor": 5
}

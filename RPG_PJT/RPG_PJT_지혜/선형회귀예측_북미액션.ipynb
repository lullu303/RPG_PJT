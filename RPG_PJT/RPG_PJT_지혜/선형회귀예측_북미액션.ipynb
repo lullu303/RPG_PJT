{
 "cells": [
  {
   "cell_type": "code",
   "execution_count": 53,
   "id": "27407e22",
   "metadata": {},
   "outputs": [],
   "source": [
    "import pandas as pd\n",
    "import numpy as np"
   ]
  },
  {
   "cell_type": "code",
   "execution_count": 2,
   "id": "875acb4b",
   "metadata": {},
   "outputs": [
    {
     "name": "stdout",
     "output_type": "stream",
     "text": [
      "<class 'pandas.core.frame.DataFrame'>\n",
      "RangeIndex: 16598 entries, 0 to 16597\n",
      "Data columns (total 11 columns):\n",
      " #   Column        Non-Null Count  Dtype  \n",
      "---  ------        --------------  -----  \n",
      " 0   Rank          16598 non-null  int64  \n",
      " 1   Name          16598 non-null  object \n",
      " 2   Platform      16598 non-null  object \n",
      " 3   Year          16327 non-null  float64\n",
      " 4   Genre         16598 non-null  object \n",
      " 5   Publisher     16540 non-null  object \n",
      " 6   NA_Sales      16598 non-null  float64\n",
      " 7   EU_Sales      16598 non-null  float64\n",
      " 8   JP_Sales      16598 non-null  float64\n",
      " 9   Other_Sales   16598 non-null  float64\n",
      " 10  Global_Sales  16598 non-null  float64\n",
      "dtypes: float64(6), int64(1), object(4)\n",
      "memory usage: 1.4+ MB\n"
     ]
    }
   ],
   "source": [
    "\n",
    "# df = pd.read_csv('Video_Games(연평균).csv')\n",
    "df = pd.read_csv('../RPG_PJT_지혜/data/vgsales.csv')\n",
    "df.info()"
   ]
  },
  {
   "cell_type": "code",
   "execution_count": 3,
   "id": "fe93de9a",
   "metadata": {},
   "outputs": [],
   "source": [
    "# # 이름, 출시년도 변수 제거\n",
    "# df=df.drop(['Name','Year'],axis=1)\n",
    "# # 유저평점 변수 형 변환\n",
    "# df['U_Score'] = pd.to_numeric(df['U_Score'], errors='coerce')\n",
    "# df.head()"
   ]
  },
  {
   "cell_type": "code",
   "execution_count": 4,
   "id": "ec1c8bc6",
   "metadata": {
    "scrolled": true
   },
   "outputs": [],
   "source": [
    "# df.info()"
   ]
  },
  {
   "cell_type": "code",
   "execution_count": 5,
   "id": "30d5ec66",
   "metadata": {},
   "outputs": [],
   "source": [
    "# # \"U_Score\" 열의 누락된 값을 최저값으로 채우기\n",
    "# min_score = df[\"U_Score\"].min()\n",
    "# df[\"U_Score\"].fillna(min_score, inplace=True)"
   ]
  },
  {
   "cell_type": "code",
   "execution_count": 6,
   "id": "01a79f06",
   "metadata": {},
   "outputs": [
    {
     "data": {
      "text/html": [
       "<div>\n",
       "<style scoped>\n",
       "    .dataframe tbody tr th:only-of-type {\n",
       "        vertical-align: middle;\n",
       "    }\n",
       "\n",
       "    .dataframe tbody tr th {\n",
       "        vertical-align: top;\n",
       "    }\n",
       "\n",
       "    .dataframe thead th {\n",
       "        text-align: right;\n",
       "    }\n",
       "</style>\n",
       "<table border=\"1\" class=\"dataframe\">\n",
       "  <thead>\n",
       "    <tr style=\"text-align: right;\">\n",
       "      <th></th>\n",
       "      <th>Rank</th>\n",
       "      <th>Name</th>\n",
       "      <th>Platform</th>\n",
       "      <th>Year</th>\n",
       "      <th>Genre</th>\n",
       "      <th>Publisher</th>\n",
       "      <th>NA_Sales</th>\n",
       "      <th>EU_Sales</th>\n",
       "      <th>JP_Sales</th>\n",
       "      <th>Other_Sales</th>\n",
       "      <th>Global_Sales</th>\n",
       "    </tr>\n",
       "  </thead>\n",
       "  <tbody>\n",
       "    <tr>\n",
       "      <th>0</th>\n",
       "      <td>1</td>\n",
       "      <td>Wii Sports</td>\n",
       "      <td>Wii</td>\n",
       "      <td>2006.0</td>\n",
       "      <td>Sports</td>\n",
       "      <td>Nintendo</td>\n",
       "      <td>41.49</td>\n",
       "      <td>29.02</td>\n",
       "      <td>3.77</td>\n",
       "      <td>8.46</td>\n",
       "      <td>82.74</td>\n",
       "    </tr>\n",
       "    <tr>\n",
       "      <th>1</th>\n",
       "      <td>2</td>\n",
       "      <td>Super Mario Bros.</td>\n",
       "      <td>NES</td>\n",
       "      <td>1985.0</td>\n",
       "      <td>Platform</td>\n",
       "      <td>Nintendo</td>\n",
       "      <td>29.08</td>\n",
       "      <td>3.58</td>\n",
       "      <td>6.81</td>\n",
       "      <td>0.77</td>\n",
       "      <td>40.24</td>\n",
       "    </tr>\n",
       "    <tr>\n",
       "      <th>2</th>\n",
       "      <td>3</td>\n",
       "      <td>Mario Kart Wii</td>\n",
       "      <td>Wii</td>\n",
       "      <td>2008.0</td>\n",
       "      <td>Racing</td>\n",
       "      <td>Nintendo</td>\n",
       "      <td>15.85</td>\n",
       "      <td>12.88</td>\n",
       "      <td>3.79</td>\n",
       "      <td>3.31</td>\n",
       "      <td>35.82</td>\n",
       "    </tr>\n",
       "    <tr>\n",
       "      <th>3</th>\n",
       "      <td>4</td>\n",
       "      <td>Wii Sports Resort</td>\n",
       "      <td>Wii</td>\n",
       "      <td>2009.0</td>\n",
       "      <td>Sports</td>\n",
       "      <td>Nintendo</td>\n",
       "      <td>15.75</td>\n",
       "      <td>11.01</td>\n",
       "      <td>3.28</td>\n",
       "      <td>2.96</td>\n",
       "      <td>33.00</td>\n",
       "    </tr>\n",
       "    <tr>\n",
       "      <th>4</th>\n",
       "      <td>5</td>\n",
       "      <td>Pokemon Red/Pokemon Blue</td>\n",
       "      <td>GB</td>\n",
       "      <td>1996.0</td>\n",
       "      <td>Role-Playing</td>\n",
       "      <td>Nintendo</td>\n",
       "      <td>11.27</td>\n",
       "      <td>8.89</td>\n",
       "      <td>10.22</td>\n",
       "      <td>1.00</td>\n",
       "      <td>31.37</td>\n",
       "    </tr>\n",
       "  </tbody>\n",
       "</table>\n",
       "</div>"
      ],
      "text/plain": [
       "   Rank                      Name Platform    Year         Genre Publisher  \\\n",
       "0     1                Wii Sports      Wii  2006.0        Sports  Nintendo   \n",
       "1     2         Super Mario Bros.      NES  1985.0      Platform  Nintendo   \n",
       "2     3            Mario Kart Wii      Wii  2008.0        Racing  Nintendo   \n",
       "3     4         Wii Sports Resort      Wii  2009.0        Sports  Nintendo   \n",
       "4     5  Pokemon Red/Pokemon Blue       GB  1996.0  Role-Playing  Nintendo   \n",
       "\n",
       "   NA_Sales  EU_Sales  JP_Sales  Other_Sales  Global_Sales  \n",
       "0     41.49     29.02      3.77         8.46         82.74  \n",
       "1     29.08      3.58      6.81         0.77         40.24  \n",
       "2     15.85     12.88      3.79         3.31         35.82  \n",
       "3     15.75     11.01      3.28         2.96         33.00  \n",
       "4     11.27      8.89     10.22         1.00         31.37  "
      ]
     },
     "execution_count": 6,
     "metadata": {},
     "output_type": "execute_result"
    }
   ],
   "source": [
    "df.head()"
   ]
  },
  {
   "cell_type": "code",
   "execution_count": 12,
   "id": "b4d24304",
   "metadata": {},
   "outputs": [
    {
     "data": {
      "text/html": [
       "<div>\n",
       "<style scoped>\n",
       "    .dataframe tbody tr th:only-of-type {\n",
       "        vertical-align: middle;\n",
       "    }\n",
       "\n",
       "    .dataframe tbody tr th {\n",
       "        vertical-align: top;\n",
       "    }\n",
       "\n",
       "    .dataframe thead th {\n",
       "        text-align: right;\n",
       "    }\n",
       "</style>\n",
       "<table border=\"1\" class=\"dataframe\">\n",
       "  <thead>\n",
       "    <tr style=\"text-align: right;\">\n",
       "      <th></th>\n",
       "      <th>Rank</th>\n",
       "      <th>Name</th>\n",
       "      <th>Platform</th>\n",
       "      <th>Year</th>\n",
       "      <th>Genre</th>\n",
       "      <th>Publisher</th>\n",
       "      <th>NA_Sales</th>\n",
       "      <th>EU_Sales</th>\n",
       "      <th>JP_Sales</th>\n",
       "      <th>Other_Sales</th>\n",
       "      <th>Global_Sales</th>\n",
       "    </tr>\n",
       "  </thead>\n",
       "  <tbody>\n",
       "    <tr>\n",
       "      <th>0</th>\n",
       "      <td>1</td>\n",
       "      <td>Wii Sports</td>\n",
       "      <td>Wii</td>\n",
       "      <td>2006.0</td>\n",
       "      <td>Sports</td>\n",
       "      <td>Nintendo</td>\n",
       "      <td>41.49</td>\n",
       "      <td>29.02</td>\n",
       "      <td>3.77</td>\n",
       "      <td>8.46</td>\n",
       "      <td>82.74</td>\n",
       "    </tr>\n",
       "    <tr>\n",
       "      <th>1</th>\n",
       "      <td>2</td>\n",
       "      <td>Super Mario Bros.</td>\n",
       "      <td>NES</td>\n",
       "      <td>1985.0</td>\n",
       "      <td>Platform</td>\n",
       "      <td>Nintendo</td>\n",
       "      <td>29.08</td>\n",
       "      <td>3.58</td>\n",
       "      <td>6.81</td>\n",
       "      <td>0.77</td>\n",
       "      <td>40.24</td>\n",
       "    </tr>\n",
       "    <tr>\n",
       "      <th>2</th>\n",
       "      <td>3</td>\n",
       "      <td>Mario Kart Wii</td>\n",
       "      <td>Wii</td>\n",
       "      <td>2008.0</td>\n",
       "      <td>Racing</td>\n",
       "      <td>Nintendo</td>\n",
       "      <td>15.85</td>\n",
       "      <td>12.88</td>\n",
       "      <td>3.79</td>\n",
       "      <td>3.31</td>\n",
       "      <td>35.82</td>\n",
       "    </tr>\n",
       "    <tr>\n",
       "      <th>3</th>\n",
       "      <td>4</td>\n",
       "      <td>Wii Sports Resort</td>\n",
       "      <td>Wii</td>\n",
       "      <td>2009.0</td>\n",
       "      <td>Sports</td>\n",
       "      <td>Nintendo</td>\n",
       "      <td>15.75</td>\n",
       "      <td>11.01</td>\n",
       "      <td>3.28</td>\n",
       "      <td>2.96</td>\n",
       "      <td>33.00</td>\n",
       "    </tr>\n",
       "    <tr>\n",
       "      <th>4</th>\n",
       "      <td>5</td>\n",
       "      <td>Pokemon Red/Pokemon Blue</td>\n",
       "      <td>GB</td>\n",
       "      <td>1996.0</td>\n",
       "      <td>Role-Playing</td>\n",
       "      <td>Nintendo</td>\n",
       "      <td>11.27</td>\n",
       "      <td>8.89</td>\n",
       "      <td>10.22</td>\n",
       "      <td>1.00</td>\n",
       "      <td>31.37</td>\n",
       "    </tr>\n",
       "  </tbody>\n",
       "</table>\n",
       "</div>"
      ],
      "text/plain": [
       "   Rank                      Name Platform    Year         Genre Publisher  \\\n",
       "0     1                Wii Sports      Wii  2006.0        Sports  Nintendo   \n",
       "1     2         Super Mario Bros.      NES  1985.0      Platform  Nintendo   \n",
       "2     3            Mario Kart Wii      Wii  2008.0        Racing  Nintendo   \n",
       "3     4         Wii Sports Resort      Wii  2009.0        Sports  Nintendo   \n",
       "4     5  Pokemon Red/Pokemon Blue       GB  1996.0  Role-Playing  Nintendo   \n",
       "\n",
       "   NA_Sales  EU_Sales  JP_Sales  Other_Sales  Global_Sales  \n",
       "0     41.49     29.02      3.77         8.46         82.74  \n",
       "1     29.08      3.58      6.81         0.77         40.24  \n",
       "2     15.85     12.88      3.79         3.31         35.82  \n",
       "3     15.75     11.01      3.28         2.96         33.00  \n",
       "4     11.27      8.89     10.22         1.00         31.37  "
      ]
     },
     "execution_count": 12,
     "metadata": {},
     "output_type": "execute_result"
    }
   ],
   "source": [
    "# 데이터프레임 복사\n",
    "df2 = df\n",
    "df2.head()"
   ]
  },
  {
   "cell_type": "code",
   "execution_count": 47,
   "id": "0924ea56",
   "metadata": {},
   "outputs": [
    {
     "data": {
      "text/html": [
       "<div>\n",
       "<style scoped>\n",
       "    .dataframe tbody tr th:only-of-type {\n",
       "        vertical-align: middle;\n",
       "    }\n",
       "\n",
       "    .dataframe tbody tr th {\n",
       "        vertical-align: top;\n",
       "    }\n",
       "\n",
       "    .dataframe thead th {\n",
       "        text-align: right;\n",
       "    }\n",
       "</style>\n",
       "<table border=\"1\" class=\"dataframe\">\n",
       "  <thead>\n",
       "    <tr style=\"text-align: right;\">\n",
       "      <th></th>\n",
       "      <th>Genre</th>\n",
       "      <th>NA_Sales</th>\n",
       "      <th>Year</th>\n",
       "    </tr>\n",
       "  </thead>\n",
       "  <tbody>\n",
       "    <tr>\n",
       "      <th>0</th>\n",
       "      <td>Sports</td>\n",
       "      <td>41.49</td>\n",
       "      <td>2006.0</td>\n",
       "    </tr>\n",
       "    <tr>\n",
       "      <th>1</th>\n",
       "      <td>Platform</td>\n",
       "      <td>29.08</td>\n",
       "      <td>1985.0</td>\n",
       "    </tr>\n",
       "    <tr>\n",
       "      <th>2</th>\n",
       "      <td>Racing</td>\n",
       "      <td>15.85</td>\n",
       "      <td>2008.0</td>\n",
       "    </tr>\n",
       "    <tr>\n",
       "      <th>3</th>\n",
       "      <td>Sports</td>\n",
       "      <td>15.75</td>\n",
       "      <td>2009.0</td>\n",
       "    </tr>\n",
       "    <tr>\n",
       "      <th>4</th>\n",
       "      <td>Role-Playing</td>\n",
       "      <td>11.27</td>\n",
       "      <td>1996.0</td>\n",
       "    </tr>\n",
       "    <tr>\n",
       "      <th>5</th>\n",
       "      <td>Puzzle</td>\n",
       "      <td>23.20</td>\n",
       "      <td>1989.0</td>\n",
       "    </tr>\n",
       "    <tr>\n",
       "      <th>6</th>\n",
       "      <td>Platform</td>\n",
       "      <td>11.38</td>\n",
       "      <td>2006.0</td>\n",
       "    </tr>\n",
       "    <tr>\n",
       "      <th>7</th>\n",
       "      <td>Misc</td>\n",
       "      <td>14.03</td>\n",
       "      <td>2006.0</td>\n",
       "    </tr>\n",
       "    <tr>\n",
       "      <th>8</th>\n",
       "      <td>Platform</td>\n",
       "      <td>14.59</td>\n",
       "      <td>2009.0</td>\n",
       "    </tr>\n",
       "    <tr>\n",
       "      <th>9</th>\n",
       "      <td>Shooter</td>\n",
       "      <td>26.93</td>\n",
       "      <td>1984.0</td>\n",
       "    </tr>\n",
       "    <tr>\n",
       "      <th>10</th>\n",
       "      <td>Simulation</td>\n",
       "      <td>9.07</td>\n",
       "      <td>2005.0</td>\n",
       "    </tr>\n",
       "    <tr>\n",
       "      <th>11</th>\n",
       "      <td>Racing</td>\n",
       "      <td>9.81</td>\n",
       "      <td>2005.0</td>\n",
       "    </tr>\n",
       "    <tr>\n",
       "      <th>12</th>\n",
       "      <td>Role-Playing</td>\n",
       "      <td>9.00</td>\n",
       "      <td>1999.0</td>\n",
       "    </tr>\n",
       "    <tr>\n",
       "      <th>13</th>\n",
       "      <td>Sports</td>\n",
       "      <td>8.94</td>\n",
       "      <td>2007.0</td>\n",
       "    </tr>\n",
       "    <tr>\n",
       "      <th>14</th>\n",
       "      <td>Sports</td>\n",
       "      <td>9.09</td>\n",
       "      <td>2009.0</td>\n",
       "    </tr>\n",
       "    <tr>\n",
       "      <th>15</th>\n",
       "      <td>Misc</td>\n",
       "      <td>14.97</td>\n",
       "      <td>2010.0</td>\n",
       "    </tr>\n",
       "    <tr>\n",
       "      <th>16</th>\n",
       "      <td>Action</td>\n",
       "      <td>7.01</td>\n",
       "      <td>2013.0</td>\n",
       "    </tr>\n",
       "    <tr>\n",
       "      <th>17</th>\n",
       "      <td>Action</td>\n",
       "      <td>9.43</td>\n",
       "      <td>2004.0</td>\n",
       "    </tr>\n",
       "    <tr>\n",
       "      <th>18</th>\n",
       "      <td>Platform</td>\n",
       "      <td>12.78</td>\n",
       "      <td>1990.0</td>\n",
       "    </tr>\n",
       "    <tr>\n",
       "      <th>19</th>\n",
       "      <td>Misc</td>\n",
       "      <td>4.75</td>\n",
       "      <td>2005.0</td>\n",
       "    </tr>\n",
       "  </tbody>\n",
       "</table>\n",
       "</div>"
      ],
      "text/plain": [
       "           Genre  NA_Sales    Year\n",
       "0         Sports     41.49  2006.0\n",
       "1       Platform     29.08  1985.0\n",
       "2         Racing     15.85  2008.0\n",
       "3         Sports     15.75  2009.0\n",
       "4   Role-Playing     11.27  1996.0\n",
       "5         Puzzle     23.20  1989.0\n",
       "6       Platform     11.38  2006.0\n",
       "7           Misc     14.03  2006.0\n",
       "8       Platform     14.59  2009.0\n",
       "9        Shooter     26.93  1984.0\n",
       "10    Simulation      9.07  2005.0\n",
       "11        Racing      9.81  2005.0\n",
       "12  Role-Playing      9.00  1999.0\n",
       "13        Sports      8.94  2007.0\n",
       "14        Sports      9.09  2009.0\n",
       "15          Misc     14.97  2010.0\n",
       "16        Action      7.01  2013.0\n",
       "17        Action      9.43  2004.0\n",
       "18      Platform     12.78  1990.0\n",
       "19          Misc      4.75  2005.0"
      ]
     },
     "execution_count": 47,
     "metadata": {},
     "output_type": "execute_result"
    }
   ],
   "source": [
    "# 장르와 NA_Sales만 따로 담기\n",
    "# ganre_NASales['Genre', 'NA_Sales'] = df2['Genre', 'NA_Sales']\n",
    "# ganre_NASales.head()\n",
    "GS = df2[['Genre','NA_Sales', 'Year']]\n",
    "GS.head(20)"
   ]
  },
  {
   "cell_type": "code",
   "execution_count": 54,
   "id": "7d2603b7",
   "metadata": {},
   "outputs": [
    {
     "name": "stderr",
     "output_type": "stream",
     "text": [
      "C:\\Users\\박지혜\\AppData\\Local\\Temp\\ipykernel_39616\\1980857075.py:14: SettingWithCopyWarning: \n",
      "A value is trying to be set on a copy of a slice from a DataFrame.\n",
      "Try using .loc[row_indexer,col_indexer] = value instead\n",
      "\n",
      "See the caveats in the documentation: https://pandas.pydata.org/pandas-docs/stable/user_guide/indexing.html#returning-a-view-versus-a-copy\n",
      "  GS['Years'] = np.select(conditions,values)\n"
     ]
    },
    {
     "data": {
      "text/html": [
       "<div>\n",
       "<style scoped>\n",
       "    .dataframe tbody tr th:only-of-type {\n",
       "        vertical-align: middle;\n",
       "    }\n",
       "\n",
       "    .dataframe tbody tr th {\n",
       "        vertical-align: top;\n",
       "    }\n",
       "\n",
       "    .dataframe thead th {\n",
       "        text-align: right;\n",
       "    }\n",
       "</style>\n",
       "<table border=\"1\" class=\"dataframe\">\n",
       "  <thead>\n",
       "    <tr style=\"text-align: right;\">\n",
       "      <th></th>\n",
       "      <th>Genre</th>\n",
       "      <th>NA_Sales</th>\n",
       "      <th>Year</th>\n",
       "      <th>Years</th>\n",
       "    </tr>\n",
       "  </thead>\n",
       "  <tbody>\n",
       "    <tr>\n",
       "      <th>0</th>\n",
       "      <td>Sports</td>\n",
       "      <td>41.49</td>\n",
       "      <td>2006.0</td>\n",
       "      <td>2005-2010</td>\n",
       "    </tr>\n",
       "    <tr>\n",
       "      <th>1</th>\n",
       "      <td>Platform</td>\n",
       "      <td>29.08</td>\n",
       "      <td>1985.0</td>\n",
       "      <td>1980-1985</td>\n",
       "    </tr>\n",
       "    <tr>\n",
       "      <th>2</th>\n",
       "      <td>Racing</td>\n",
       "      <td>15.85</td>\n",
       "      <td>2008.0</td>\n",
       "      <td>2005-2010</td>\n",
       "    </tr>\n",
       "    <tr>\n",
       "      <th>3</th>\n",
       "      <td>Sports</td>\n",
       "      <td>15.75</td>\n",
       "      <td>2009.0</td>\n",
       "      <td>2005-2010</td>\n",
       "    </tr>\n",
       "    <tr>\n",
       "      <th>4</th>\n",
       "      <td>Role-Playing</td>\n",
       "      <td>11.27</td>\n",
       "      <td>1996.0</td>\n",
       "      <td>1995-2000</td>\n",
       "    </tr>\n",
       "    <tr>\n",
       "      <th>5</th>\n",
       "      <td>Puzzle</td>\n",
       "      <td>23.20</td>\n",
       "      <td>1989.0</td>\n",
       "      <td>1985-1990</td>\n",
       "    </tr>\n",
       "    <tr>\n",
       "      <th>6</th>\n",
       "      <td>Platform</td>\n",
       "      <td>11.38</td>\n",
       "      <td>2006.0</td>\n",
       "      <td>2005-2010</td>\n",
       "    </tr>\n",
       "    <tr>\n",
       "      <th>7</th>\n",
       "      <td>Misc</td>\n",
       "      <td>14.03</td>\n",
       "      <td>2006.0</td>\n",
       "      <td>2005-2010</td>\n",
       "    </tr>\n",
       "    <tr>\n",
       "      <th>8</th>\n",
       "      <td>Platform</td>\n",
       "      <td>14.59</td>\n",
       "      <td>2009.0</td>\n",
       "      <td>2005-2010</td>\n",
       "    </tr>\n",
       "    <tr>\n",
       "      <th>9</th>\n",
       "      <td>Shooter</td>\n",
       "      <td>26.93</td>\n",
       "      <td>1984.0</td>\n",
       "      <td>1980-1985</td>\n",
       "    </tr>\n",
       "  </tbody>\n",
       "</table>\n",
       "</div>"
      ],
      "text/plain": [
       "          Genre  NA_Sales    Year      Years\n",
       "0        Sports     41.49  2006.0  2005-2010\n",
       "1      Platform     29.08  1985.0  1980-1985\n",
       "2        Racing     15.85  2008.0  2005-2010\n",
       "3        Sports     15.75  2009.0  2005-2010\n",
       "4  Role-Playing     11.27  1996.0  1995-2000\n",
       "5        Puzzle     23.20  1989.0  1985-1990\n",
       "6      Platform     11.38  2006.0  2005-2010\n",
       "7          Misc     14.03  2006.0  2005-2010\n",
       "8      Platform     14.59  2009.0  2005-2010\n",
       "9       Shooter     26.93  1984.0  1980-1985"
      ]
     },
     "execution_count": 54,
     "metadata": {},
     "output_type": "execute_result"
    }
   ],
   "source": [
    "# 연대를 알 수 있는 Feature 만들기\n",
    "conditions = [GS['Year'] <= 1985,\n",
    "              (GS['Year'] > 1985) & (GS['Year'] <=1990),\n",
    "              (GS['Year'] > 1990) & (GS['Year'] <=1995),\n",
    "              (GS['Year'] > 1995) & (GS['Year'] <=2000), \n",
    "              (GS['Year'] > 2000) & (GS['Year'] <= 2005),\n",
    "              (GS['Year'] > 2005) & (GS['Year'] <= 2010),\n",
    "              (GS['Year'] > 2010) & (GS['Year'] <= 2015),\n",
    "              (GS['Year'] > 2015) & (GS['Year'] <= 2020)\n",
    "]\n",
    "\n",
    "values = ['1980-1985','1985-1990','1990-1995','1995-2000','2000-2005','2005-2010','2010-2015','2015-2020']\n",
    "\n",
    "GS['Years'] = np.select(conditions,values)\n",
    "GS.head(10)"
   ]
  },
  {
   "cell_type": "code",
   "execution_count": 65,
   "id": "d8a13645",
   "metadata": {},
   "outputs": [
    {
     "data": {
      "text/html": [
       "<div>\n",
       "<style scoped>\n",
       "    .dataframe tbody tr th:only-of-type {\n",
       "        vertical-align: middle;\n",
       "    }\n",
       "\n",
       "    .dataframe tbody tr th {\n",
       "        vertical-align: top;\n",
       "    }\n",
       "\n",
       "    .dataframe thead th {\n",
       "        text-align: right;\n",
       "    }\n",
       "</style>\n",
       "<table border=\"1\" class=\"dataframe\">\n",
       "  <thead>\n",
       "    <tr style=\"text-align: right;\">\n",
       "      <th></th>\n",
       "      <th>Genre</th>\n",
       "      <th>NA_Sales</th>\n",
       "      <th>Year</th>\n",
       "      <th>Years</th>\n",
       "    </tr>\n",
       "  </thead>\n",
       "  <tbody>\n",
       "    <tr>\n",
       "      <th>16</th>\n",
       "      <td>Action</td>\n",
       "      <td>7.01</td>\n",
       "      <td>2013.0</td>\n",
       "      <td>2010-2015</td>\n",
       "    </tr>\n",
       "    <tr>\n",
       "      <th>17</th>\n",
       "      <td>Action</td>\n",
       "      <td>9.43</td>\n",
       "      <td>2004.0</td>\n",
       "      <td>2000-2005</td>\n",
       "    </tr>\n",
       "    <tr>\n",
       "      <th>23</th>\n",
       "      <td>Action</td>\n",
       "      <td>9.63</td>\n",
       "      <td>2013.0</td>\n",
       "      <td>2010-2015</td>\n",
       "    </tr>\n",
       "    <tr>\n",
       "      <th>24</th>\n",
       "      <td>Action</td>\n",
       "      <td>8.41</td>\n",
       "      <td>2002.0</td>\n",
       "      <td>2000-2005</td>\n",
       "    </tr>\n",
       "    <tr>\n",
       "      <th>38</th>\n",
       "      <td>Action</td>\n",
       "      <td>6.99</td>\n",
       "      <td>2001.0</td>\n",
       "      <td>2000-2005</td>\n",
       "    </tr>\n",
       "  </tbody>\n",
       "</table>\n",
       "</div>"
      ],
      "text/plain": [
       "     Genre  NA_Sales    Year      Years\n",
       "16  Action      7.01  2013.0  2010-2015\n",
       "17  Action      9.43  2004.0  2000-2005\n",
       "23  Action      9.63  2013.0  2010-2015\n",
       "24  Action      8.41  2002.0  2000-2005\n",
       "38  Action      6.99  2001.0  2000-2005"
      ]
     },
     "execution_count": 65,
     "metadata": {},
     "output_type": "execute_result"
    }
   ],
   "source": [
    "GS2 = GS.loc[GS['Genre']=='Action']\n",
    "GS2.head()"
   ]
  },
  {
   "cell_type": "code",
   "execution_count": 83,
   "id": "61769adc",
   "metadata": {},
   "outputs": [],
   "source": [
    "# df =GS2.drop(['Year'], axis=1)\n",
    "# df.head()"
   ]
  },
  {
   "cell_type": "code",
   "execution_count": 82,
   "id": "f2a854b1",
   "metadata": {},
   "outputs": [],
   "source": [
    "# df2 = df.groupby(['Years'])\n",
    "# df2.head(5)"
   ]
  },
  {
   "cell_type": "code",
   "execution_count": 80,
   "id": "acbcf998",
   "metadata": {},
   "outputs": [],
   "source": [
    "import matplotlib.pyplot as plt\n",
    "import seaborn as sns"
   ]
  },
  {
   "cell_type": "code",
   "execution_count": 79,
   "id": "950a8652",
   "metadata": {},
   "outputs": [],
   "source": [
    "# !pip install seaborn"
   ]
  },
  {
   "cell_type": "code",
   "execution_count": 99,
   "id": "2931ffa9",
   "metadata": {},
   "outputs": [
    {
     "data": {
      "text/html": [
       "<div>\n",
       "<style scoped>\n",
       "    .dataframe tbody tr th:only-of-type {\n",
       "        vertical-align: middle;\n",
       "    }\n",
       "\n",
       "    .dataframe tbody tr th {\n",
       "        vertical-align: top;\n",
       "    }\n",
       "\n",
       "    .dataframe thead th {\n",
       "        text-align: right;\n",
       "    }\n",
       "</style>\n",
       "<table border=\"1\" class=\"dataframe\">\n",
       "  <thead>\n",
       "    <tr style=\"text-align: right;\">\n",
       "      <th></th>\n",
       "      <th>Year</th>\n",
       "      <th>NA_Sales</th>\n",
       "    </tr>\n",
       "  </thead>\n",
       "  <tbody>\n",
       "    <tr>\n",
       "      <th>0</th>\n",
       "      <td>1980.0</td>\n",
       "      <td>0.32</td>\n",
       "    </tr>\n",
       "    <tr>\n",
       "      <th>1</th>\n",
       "      <td>1981.0</td>\n",
       "      <td>13.86</td>\n",
       "    </tr>\n",
       "    <tr>\n",
       "      <th>2</th>\n",
       "      <td>1982.0</td>\n",
       "      <td>6.07</td>\n",
       "    </tr>\n",
       "    <tr>\n",
       "      <th>3</th>\n",
       "      <td>1983.0</td>\n",
       "      <td>2.67</td>\n",
       "    </tr>\n",
       "    <tr>\n",
       "      <th>4</th>\n",
       "      <td>1984.0</td>\n",
       "      <td>0.80</td>\n",
       "    </tr>\n",
       "  </tbody>\n",
       "</table>\n",
       "</div>"
      ],
      "text/plain": [
       "     Year  NA_Sales\n",
       "0  1980.0      0.32\n",
       "1  1981.0     13.86\n",
       "2  1982.0      6.07\n",
       "3  1983.0      2.67\n",
       "4  1984.0      0.80"
      ]
     },
     "execution_count": 99,
     "metadata": {},
     "output_type": "execute_result"
    }
   ],
   "source": [
    "# 연도에 따른 북미 액션게임 출고량을 위한 전처리\n",
    "\n",
    "df_year_region = GS2.groupby(['Year'])['NA_Sales'].sum()\n",
    "df_year_region = df_year_region.reset_index()\n",
    "df_year_region.rename(columns = {'level_1' : 'Region'}, inplace = True)\n",
    "df_year_region.rename(columns = {0 : 'Sales'}, inplace = True)\n",
    "df_year_region.head()"
   ]
  },
  {
   "cell_type": "code",
   "execution_count": 102,
   "id": "1c194e0c",
   "metadata": {},
   "outputs": [
    {
     "name": "stderr",
     "output_type": "stream",
     "text": [
      "c:\\Users\\박지혜\\AppData\\Local\\Programs\\Python\\Python311\\Lib\\site-packages\\seaborn\\_oldcore.py:1498: FutureWarning: is_categorical_dtype is deprecated and will be removed in a future version. Use isinstance(dtype, CategoricalDtype) instead\n",
      "  if pd.api.types.is_categorical_dtype(vector):\n",
      "c:\\Users\\박지혜\\AppData\\Local\\Programs\\Python\\Python311\\Lib\\site-packages\\seaborn\\_oldcore.py:1498: FutureWarning: is_categorical_dtype is deprecated and will be removed in a future version. Use isinstance(dtype, CategoricalDtype) instead\n",
      "  if pd.api.types.is_categorical_dtype(vector):\n",
      "c:\\Users\\박지혜\\AppData\\Local\\Programs\\Python\\Python311\\Lib\\site-packages\\seaborn\\_oldcore.py:1119: FutureWarning: use_inf_as_na option is deprecated and will be removed in a future version. Convert inf values to NaN before operating instead.\n",
      "  with pd.option_context('mode.use_inf_as_na', True):\n",
      "c:\\Users\\박지혜\\AppData\\Local\\Programs\\Python\\Python311\\Lib\\site-packages\\seaborn\\_oldcore.py:1119: FutureWarning: use_inf_as_na option is deprecated and will be removed in a future version. Convert inf values to NaN before operating instead.\n",
      "  with pd.option_context('mode.use_inf_as_na', True):\n",
      "No artists with labels found to put in legend.  Note that artists whose label start with an underscore are ignored when legend() is called with no argument.\n"
     ]
    },
    {
     "data": {
      "text/plain": [
       "Text(0.5, 1.0, '연도에 따른 북미 액션게임 출고량')"
      ]
     },
     "execution_count": 102,
     "metadata": {},
     "output_type": "execute_result"
    },
    {
     "data": {
      "image/png": "[encoded data removed]",
      "text/plain": [
       "<Figure size 1200x500 with 1 Axes>"
      ]
     },
     "metadata": {},
     "output_type": "display_data"
    }
   ],
   "source": [
    "# 연도에 따른 북미 액션게임 출고량 그래프 그리기\n",
    "plt.figure(figsize=(12, 5))\n",
    "sns.lineplot(data=df_year_region, x=\"Year\", y=\"NA_Sales\")\n",
    "plt.legend(bbox_to_anchor=(1.02, 1), loc=2, borderaxespad=0.)\n",
    "plt.title('연도에 따른 북미 액션게임 출고량', fontsize=20)"
   ]
  },
  {
   "cell_type": "code",
   "execution_count": 111,
   "id": "9542979a",
   "metadata": {},
   "outputs": [],
   "source": [
    "# import matplotlib.pyplot as plt\n",
    "# !pip install sklearn\n",
    "import sklearn\n",
    "# !pip3 install -U scikit-learn"
   ]
  },
  {
   "cell_type": "markdown",
   "id": "f86f072a",
   "metadata": {},
   "source": [
    "#### 독립변수 종속변수가 각각 한 개일 때의 관계를 분석하는 단순선형회귀분석 진행"
   ]
  },
  {
   "cell_type": "code",
   "execution_count": 112,
   "id": "c88ba525",
   "metadata": {},
   "outputs": [],
   "source": [
    "from sklearn.linear_model import LinearRegression\n",
    "lr = LinearRegression()"
   ]
  },
  {
   "cell_type": "code",
   "execution_count": 117,
   "id": "702e06c4",
   "metadata": {},
   "outputs": [
    {
     "data": {
      "text/plain": [
       "0      0.32\n",
       "1     13.86\n",
       "2      6.07\n",
       "3      2.67\n",
       "4      0.80\n",
       "5      1.64\n",
       "6      6.52\n",
       "7      1.04\n",
       "8      1.15\n",
       "9      3.83\n",
       "10     4.27\n",
       "11     3.47\n",
       "12     2.21\n",
       "13     0.64\n",
       "14     0.57\n",
       "15     1.73\n",
       "16    10.65\n",
       "17    14.40\n",
       "18    20.15\n",
       "19    14.91\n",
       "20    17.79\n",
       "21    29.81\n",
       "22    47.81\n",
       "23    37.74\n",
       "24    39.08\n",
       "25    49.62\n",
       "26    38.37\n",
       "27    58.90\n",
       "28    72.39\n",
       "29    71.61\n",
       "30    60.32\n",
       "31    53.73\n",
       "32    52.51\n",
       "33    53.79\n",
       "34    38.73\n",
       "35    22.83\n",
       "36     5.87\n",
       "37     0.00\n",
       "Name: NA_Sales, dtype: float64"
      ]
     },
     "execution_count": 117,
     "metadata": {},
     "output_type": "execute_result"
    }
   ],
   "source": [
    "Y = df_year_region['NA_Sales']\n",
    "Y"
   ]
  },
  {
   "cell_type": "code",
   "execution_count": 118,
   "id": "ec59ca70",
   "metadata": {},
   "outputs": [
    {
     "data": {
      "text/plain": [
       "0     1980.0\n",
       "1     1981.0\n",
       "2     1982.0\n",
       "3     1983.0\n",
       "4     1984.0\n",
       "5     1985.0\n",
       "6     1986.0\n",
       "7     1987.0\n",
       "8     1988.0\n",
       "9     1989.0\n",
       "10    1990.0\n",
       "11    1991.0\n",
       "12    1992.0\n",
       "13    1993.0\n",
       "14    1994.0\n",
       "15    1995.0\n",
       "16    1996.0\n",
       "17    1997.0\n",
       "18    1998.0\n",
       "19    1999.0\n",
       "20    2000.0\n",
       "21    2001.0\n",
       "22    2002.0\n",
       "23    2003.0\n",
       "24    2004.0\n",
       "25    2005.0\n",
       "26    2006.0\n",
       "27    2007.0\n",
       "28    2008.0\n",
       "29    2009.0\n",
       "30    2010.0\n",
       "31    2011.0\n",
       "32    2012.0\n",
       "33    2013.0\n",
       "34    2014.0\n",
       "35    2015.0\n",
       "36    2016.0\n",
       "37    2017.0\n",
       "Name: Year, dtype: float64"
      ]
     },
     "execution_count": 118,
     "metadata": {},
     "output_type": "execute_result"
    }
   ],
   "source": [
    "X = df_year_region['Year']\n",
    "X"
   ]
  },
  {
   "cell_type": "code",
   "execution_count": 120,
   "id": "1675b513",
   "metadata": {},
   "outputs": [],
   "source": [
    "# X, Y 모양 자체를 2d array로 바꿔줘야 함\n",
    "X = X.values.reshape(-1,1)\n",
    "Y = Y.values.reshape(-1,1)"
   ]
  },
  {
   "cell_type": "code",
   "execution_count": 129,
   "id": "ede4f216",
   "metadata": {},
   "outputs": [],
   "source": [
    "import statsmodels.api as sm\n",
    "# !pip install statsmodels"
   ]
  },
  {
   "cell_type": "code",
   "execution_count": 130,
   "id": "e5ff0709",
   "metadata": {},
   "outputs": [
    {
     "name": "stdout",
     "output_type": "stream",
     "text": [
      "                                 OLS Regression Results                                \n",
      "=======================================================================================\n",
      "Dep. Variable:                      y   R-squared (uncentered):                   0.496\n",
      "Model:                            OLS   Adj. R-squared (uncentered):              0.482\n",
      "Method:                 Least Squares   F-statistic:                              36.35\n",
      "Date:                Thu, 07 Sep 2023   Prob (F-statistic):                    5.74e-07\n",
      "Time:                        22:35:27   Log-Likelihood:                         -173.01\n",
      "No. Observations:                  38   AIC:                                      348.0\n",
      "Df Residuals:                      37   BIC:                                      349.7\n",
      "Df Model:                           1                                                  \n",
      "Covariance Type:            nonrobust                                                  \n",
      "==============================================================================\n",
      "                 coef    std err          t      P>|t|      [0.025      0.975]\n",
      "------------------------------------------------------------------------------\n",
      "x1             0.0114      0.002      6.029      0.000       0.008       0.015\n",
      "==============================================================================\n",
      "Omnibus:                        6.058   Durbin-Watson:                   0.144\n",
      "Prob(Omnibus):                  0.048   Jarque-Bera (JB):                4.535\n",
      "Skew:                           0.715   Prob(JB):                        0.104\n",
      "Kurtosis:                       2.095   Cond. No.                         1.00\n",
      "==============================================================================\n",
      "\n",
      "Notes:\n",
      "[1] R² is computed without centering (uncentered) since the model does not contain a constant.\n",
      "[2] Standard Errors assume that the covariance matrix of the errors is correctly specified.\n"
     ]
    }
   ],
   "source": [
    "#fit linear regression model\n",
    "model = sm.OLS(Y, X).fit()\n",
    " \n",
    "#view model summary\n",
    "print(model.summary())"
   ]
  },
  {
   "cell_type": "code",
   "execution_count": 133,
   "id": "1ccb078a",
   "metadata": {},
   "outputs": [
    {
     "data": {
      "text/html": [
       "<style>#sk-container-id-2 {color: black;}#sk-container-id-2 pre{padding: 0;}#sk-container-id-2 div.sk-toggleable {background-color: white;}#sk-container-id-2 label.sk-toggleable__label {cursor: pointer;display: block;width: 100%;margin-bottom: 0;padding: 0.3em;box-sizing: border-box;text-align: center;}#sk-container-id-2 label.sk-toggleable__label-arrow:before {content: \"▸\";float: left;margin-right: 0.25em;color: #696969;}#sk-container-id-2 label.sk-toggleable__label-arrow:hover:before {color: black;}#sk-container-id-2 div.sk-estimator:hover label.sk-toggleable__label-arrow:before {color: black;}#sk-container-id-2 div.sk-toggleable__content {max-height: 0;max-width: 0;overflow: hidden;text-align: left;background-color: #f0f8ff;}#sk-container-id-2 div.sk-toggleable__content pre {margin: 0.2em;color: black;border-radius: 0.25em;background-color: #f0f8ff;}#sk-container-id-2 input.sk-toggleable__control:checked~div.sk-toggleable__content {max-height: 200px;max-width: 100%;overflow: auto;}#sk-container-id-2 input.sk-toggleable__control:checked~label.sk-toggleable__label-arrow:before {content: \"▾\";}#sk-container-id-2 div.sk-estimator input.sk-toggleable__control:checked~label.sk-toggleable__label {background-color: #d4ebff;}#sk-container-id-2 div.sk-label input.sk-toggleable__control:checked~label.sk-toggleable__label {background-color: #d4ebff;}#sk-container-id-2 input.sk-hidden--visually {border: 0;clip: rect(1px 1px 1px 1px);clip: rect(1px, 1px, 1px, 1px);height: 1px;margin: -1px;overflow: hidden;padding: 0;position: absolute;width: 1px;}#sk-container-id-2 div.sk-estimator {font-family: monospace;background-color: #f0f8ff;border: 1px dotted black;border-radius: 0.25em;box-sizing: border-box;margin-bottom: 0.5em;}#sk-container-id-2 div.sk-estimator:hover {background-color: #d4ebff;}#sk-container-id-2 div.sk-parallel-item::after {content: \"\";width: 100%;border-bottom: 1px solid gray;flex-grow: 1;}#sk-container-id-2 div.sk-label:hover label.sk-toggleable__label {background-color: #d4ebff;}#sk-container-id-2 div.sk-serial::before {content: \"\";position: absolute;border-left: 1px solid gray;box-sizing: border-box;top: 0;bottom: 0;left: 50%;z-index: 0;}#sk-container-id-2 div.sk-serial {display: flex;flex-direction: column;align-items: center;background-color: white;padding-right: 0.2em;padding-left: 0.2em;position: relative;}#sk-container-id-2 div.sk-item {position: relative;z-index: 1;}#sk-container-id-2 div.sk-parallel {display: flex;align-items: stretch;justify-content: center;background-color: white;position: relative;}#sk-container-id-2 div.sk-item::before, #sk-container-id-2 div.sk-parallel-item::before {content: \"\";position: absolute;border-left: 1px solid gray;box-sizing: border-box;top: 0;bottom: 0;left: 50%;z-index: -1;}#sk-container-id-2 div.sk-parallel-item {display: flex;flex-direction: column;z-index: 1;position: relative;background-color: white;}#sk-container-id-2 div.sk-parallel-item:first-child::after {align-self: flex-end;width: 50%;}#sk-container-id-2 div.sk-parallel-item:last-child::after {align-self: flex-start;width: 50%;}#sk-container-id-2 div.sk-parallel-item:only-child::after {width: 0;}#sk-container-id-2 div.sk-dashed-wrapped {border: 1px dashed gray;margin: 0 0.4em 0.5em 0.4em;box-sizing: border-box;padding-bottom: 0.4em;background-color: white;}#sk-container-id-2 div.sk-label label {font-family: monospace;font-weight: bold;display: inline-block;line-height: 1.2em;}#sk-container-id-2 div.sk-label-container {text-align: center;}#sk-container-id-2 div.sk-container {/* jupyter's `normalize.less` sets `[hidden] { display: none; }` but bootstrap.min.css set `[hidden] { display: none !important; }` so we also need the `!important` here to be able to override the default hidden behavior on the sphinx rendered scikit-learn.org. See: https://github.com/scikit-learn/scikit-learn/issues/21755 */display: inline-block !important;position: relative;}#sk-container-id-2 div.sk-text-repr-fallback {display: none;}</style><div id=\"sk-container-id-2\" class=\"sk-top-container\"><div class=\"sk-text-repr-fallback\"><pre>LinearRegression()</pre><b>In a Jupyter environment, please rerun this cell to show the HTML representation or trust the notebook. <br />On GitHub, the HTML representation is unable to render, please try loading this page with nbviewer.org.</b></div><div class=\"sk-container\" hidden><div class=\"sk-item\"><div class=\"sk-estimator sk-toggleable\"><input class=\"sk-toggleable__control sk-hidden--visually\" id=\"sk-estimator-id-2\" type=\"checkbox\" checked><label for=\"sk-estimator-id-2\" class=\"sk-toggleable__label sk-toggleable__label-arrow\">LinearRegression</label><div class=\"sk-toggleable__content\"><pre>LinearRegression()</pre></div></div></div></div></div>"
      ],
      "text/plain": [
       "LinearRegression()"
      ]
     },
     "execution_count": 133,
     "metadata": {},
     "output_type": "execute_result"
    }
   ],
   "source": [
    "## 모델의 선언\n",
    "linear_regression = LinearRegression()\n",
    " \n",
    "## 모델-데이터셋의 학습 진행\n",
    "linear_regression.fit(X, Y)"
   ]
  },
  {
   "cell_type": "code",
   "execution_count": 134,
   "id": "e292628c",
   "metadata": {},
   "outputs": [],
   "source": [
    "y_val_pred=linear_regression.predict(X)\n"
   ]
  },
  {
   "cell_type": "code",
   "execution_count": 135,
   "id": "370dd3b8",
   "metadata": {},
   "outputs": [
    {
     "name": "stdout",
     "output_type": "stream",
     "text": [
      "검증데이터 평가\n",
      "검증데이터 MSE: 292.99180091107456\n",
      "검증데이터 RMSE: 17.117003269003444\n",
      "검증데이터 MAE: 12.877282899775954\n",
      "검증데이터 r2: 0.4485137322515764\n"
     ]
    }
   ],
   "source": [
    "from sklearn.metrics import mean_absolute_error, mean_squared_error, r2_score\n",
    "mse_val=mean_squared_error(Y, y_val_pred)\n",
    "rmse_val=mse_val**0.5\n",
    "mae_val=mean_absolute_error(Y, y_val_pred)\n",
    "r2_val=r2_score(Y, y_val_pred)\n",
    "print('검증데이터 평가')\n",
    "print('검증데이터 MSE:', mse_val)\n",
    "print('검증데이터 RMSE:', rmse_val)\n",
    "print('검증데이터 MAE:', mae_val)\n",
    "print('검증데이터 r2:', r2_val)"
   ]
  },
  {
   "cell_type": "markdown",
   "id": "f8a70654",
   "metadata": {},
   "source": [
    "### 검증데이터를 학습시킨 후 테스트 데이터로 정확도 확인해보기"
   ]
  },
  {
   "cell_type": "code",
   "execution_count": 138,
   "id": "0003d1aa",
   "metadata": {},
   "outputs": [
    {
     "name": "stdout",
     "output_type": "stream",
     "text": [
      "테스트데이터 평가\n",
      "테스트데이터 MSE: 527.4432779589258\n",
      "테스트데이터 RMSE: 22.966133282704032\n",
      "테스트데이터 MAE: 20.309982647105972\n",
      "테스트데이터 r2: 0.0072154787060195735\n"
     ]
    }
   ],
   "source": [
    "linear_regression.fit(X, Y)\n",
    "y_test_pred=model.predict(X)\n",
    "mse_test=mean_squared_error(Y, y_test_pred)\n",
    "rmse_test=mse_test**0.5\n",
    "mae_test=mean_absolute_error(Y, y_test_pred)\n",
    "r2_test=r2_score(Y, y_test_pred)\n",
    "print('테스트데이터 평가')\n",
    "print('테스트데이터 MSE:', mse_test)\n",
    "print('테스트데이터 RMSE:', rmse_test)\n",
    "print('테스트데이터 MAE:', mae_test)\n",
    "print('테스트데이터 r2:', r2_test)"
   ]
  },
  {
   "cell_type": "code",
   "execution_count": 12,
   "id": "d74f888a",
   "metadata": {},
   "outputs": [],
   "source": [
    "from sklearn.model_selection import train_test_split\n",
    "# 훈련 세트와 테스트 세트로 데이터 분할\n",
    "X_train, X_test, Y_train, Y_test = train_test_split(X, Y, test_size=0.2, random_state=42)"
   ]
  },
  {
   "cell_type": "code",
   "execution_count": 13,
   "id": "7d3d81a9",
   "metadata": {},
   "outputs": [],
   "source": [
    "from sklearn.linear_model import LinearRegression\n",
    "linear_model = LinearRegression()\n",
    "linear_model.fit(X_train, Y_train)\n",
    "linear_predictions = linear_model.predict(X_test)"
   ]
  },
  {
   "cell_type": "code",
   "execution_count": 14,
   "id": "5902c382",
   "metadata": {},
   "outputs": [],
   "source": [
    "from sklearn.ensemble import RandomForestRegressor\n",
    "# 랜덤 포레스트 모델 학습 및 예측\n",
    "rf_model = RandomForestRegressor()\n",
    "rf_model.fit(X_train, Y_train)\n",
    "rf_predictions = rf_model.predict(X_test)"
   ]
  },
  {
   "cell_type": "code",
   "execution_count": 15,
   "id": "03741d0d",
   "metadata": {},
   "outputs": [],
   "source": [
    "from sklearn.metrics import mean_squared_error, mean_absolute_error, r2_score\n",
    "# 모델평가\n",
    "linear_mse = mean_squared_error(Y_test, linear_predictions)\n",
    "linear_mae = mean_absolute_error(Y_test, linear_predictions)\n",
    "linear_r2 = r2_score(Y_test, linear_predictions)\n",
    "\n",
    "rf_mse = mean_squared_error(Y_test, rf_predictions)\n",
    "rf_mae = mean_absolute_error(Y_test, rf_predictions)\n",
    "rf_r2 = r2_score(Y_test, rf_predictions)"
   ]
  },
  {
   "cell_type": "code",
   "execution_count": 16,
   "id": "2867bc3d",
   "metadata": {
    "scrolled": true
   },
   "outputs": [
    {
     "name": "stdout",
     "output_type": "stream",
     "text": [
      "선형 회귀 모델 평가:\n",
      "MSE: 169070598121.64688\n",
      "MAE: 10533.731937429593\n",
      "R^2: -25389537179123.94\n",
      "\n",
      "랜덤 포레스트 모델 평가:\n",
      "MSE: 4.002656876345563e-05\n",
      "MAE: 0.0013573293520396364\n",
      "R^2: 0.993989161527415\n"
     ]
    }
   ],
   "source": [
    "# 평가결과 출력\n",
    "print(\"선형 회귀 모델 평가:\")\n",
    "print(\"MSE:\", linear_mse)\n",
    "print(\"MAE:\", linear_mae)\n",
    "print(\"R^2:\", linear_r2)\n",
    "print()\n",
    "\n",
    "print(\"랜덤 포레스트 모델 평가:\")\n",
    "print(\"MSE:\", rf_mse)\n",
    "print(\"MAE:\", rf_mae)\n",
    "print(\"R^2:\", rf_r2)"
   ]
  },
  {
   "cell_type": "markdown",
   "id": "f026ddc8",
   "metadata": {},
   "source": [
    "- 선형회귀모델 : \n",
    "    MSE(평균제곱오차) 예측 결과와 실제 결과 간 매우 큰 오차가 있다\n",
    "    MAE(평균절대오차) 역시 상당히 큰 값\n",
    "    R2 음수, 모델이 예측하는 것보다 단순히 평균으로 예측하는 것이 더 나은 수준\n",
    "    : 적합하지 않다.\n",
    "- 랜덤포레스트 : \n",
    "    MSE값 매우 작고 0에 가깝다.\n",
    "    MAE값 역시 작다\n",
    "    R2값 0.99로 매우 매우 높다. \n",
    "    : 예측 결과와 실제 결과 간에 작은 오차를 가지고 데이터 잘 설명하는 모델"
   ]
  },
  {
   "cell_type": "code",
   "execution_count": 17,
   "id": "09163fc1",
   "metadata": {},
   "outputs": [],
   "source": [
    "from sklearn.model_selection import cross_val_score\n",
    "# 랜덤 포레스트 모델에 대한 k-fold 교차검증 수행\n",
    "cv_scores = cross_val_score(rf_model, X, Y, cv=5, scoring='neg_mean_squared_error')"
   ]
  },
  {
   "cell_type": "code",
   "execution_count": 18,
   "id": "ffe343f1",
   "metadata": {},
   "outputs": [
    {
     "name": "stdout",
     "output_type": "stream",
     "text": [
      "교차 검증 결과 RMSE: [0.03718663 0.0458009  0.00704321 0.00934419 0.00445218]\n",
      "평균 RMSE: 0.020765420895218968\n"
     ]
    }
   ],
   "source": [
    "import numpy as np\n",
    "# 교차 검증 결과 출력\n",
    "cv_mse = -cv_scores\n",
    "cv_rmse = np.sqrt(cv_mse)\n",
    "cv_mean_rmse = np.mean(cv_rmse)\n",
    "\n",
    "print(\"교차 검증 결과 RMSE:\", cv_rmse)\n",
    "print(\"평균 RMSE:\", cv_mean_rmse)"
   ]
  },
  {
   "cell_type": "code",
   "execution_count": null,
   "id": "d28839a2",
   "metadata": {},
   "outputs": [],
   "source": []
  },
  {
   "cell_type": "code",
   "execution_count": null,
   "id": "13cd52ca",
   "metadata": {},
   "outputs": [],
   "source": []
  },
  {
   "cell_type": "code",
   "execution_count": null,
   "id": "9919d1f5",
   "metadata": {},
   "outputs": [],
   "source": []
  },
  {
   "cell_type": "code",
   "execution_count": null,
   "id": "0fa45ed4",
   "metadata": {},
   "outputs": [],
   "source": []
  }
 ],
 "metadata": {
  "kernelspec": {
   "display_name": "Python 3 (ipykernel)",
   "language": "python",
   "name": "python3"
  },
  "language_info": {
   "codemirror_mode": {
    "name": "ipython",
    "version": 3
   },
   "file_extension": ".py",
   "mimetype": "text/x-python",
   "name": "python",
   "nbconvert_exporter": "python",
   "pygments_lexer": "ipython3",
   "version": "3.11.4"
  }
 },
 "nbformat": 4,
 "nbformat_minor": 5
}
